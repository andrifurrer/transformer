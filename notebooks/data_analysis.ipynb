{
 "cells": [
  {
   "cell_type": "markdown",
   "id": "56d20b1a017eac85",
   "metadata": {},
   "source": [
    "# Analysis of the ''EarSet'' dataset from the paper ''EarSet: A Multi-Modal Dataset for Studying the Impact of Head and Facial Movements  on In-Ear PPG Signals''"
   ]
  },
  {
   "cell_type": "code",
   "execution_count": null,
   "id": "9b8268f83d169309",
   "metadata": {
    "ExecuteTime": {
     "end_time": "2024-11-01T14:42:13.837109Z",
     "start_time": "2024-11-01T14:42:13.831044Z"
    }
   },
   "outputs": [],
   "source": [
    "import os\n",
    "import pandas as pd\n",
    "import matplotlib.pyplot as plt\n",
    "import numpy as np\n",
    "#import scipy.signal import buttter, filtfilt"
   ]
  },
  {
   "cell_type": "code",
   "execution_count": null,
   "id": "8ae8fe524a39cc85",
   "metadata": {
    "ExecuteTime": {
     "end_time": "2024-11-01T14:42:13.855486Z",
     "start_time": "2024-11-01T14:42:13.848799Z"
    }
   },
   "outputs": [],
   "source": [
    "# Get the list of all files and directories in P0 directory\n",
    "path = '../data/Dataset/P0/EARBUDS/'\n",
    "dir_list = os.listdir(path)\n",
    "\n",
    "# Store the action name for the files in a list\n",
    "action_name_for_file = ['still', 'nod', 'shake', 'tilt', 'eyes-ud', 'eyes-lr', 'brow-raiser', 'brow-lowerer', 'wink-r',\n",
    "                        'wink-l', 'lip-puller', 'chin-raiser', 'mouth-stretch-', 'chewing', 'speaking', 'walking', 'running']\n",
    "\n",
    "# Define an action mapping table with the actions from the paper\n",
    "actions = ['Still', 'Nod', 'Shake', 'Tilt', 'Vertical Eyes Movements', 'Horizontal Eyes Movements', 'Brow Raiser', 'Brow Lowerer', 'Right Eye Wink', 'Left Eye Wink',\n",
    "           'Lip Puller', 'Chin Raiser', 'Mouth Stretch', 'Chewing', 'Speaking', 'Walking', 'Running']\n",
    "atoi = {a:i for i,a in enumerate(actions)}\n",
    "itoa = {i:a for i,a in enumerate(action_name_for_file)}\n",
    "\n",
    "print(atoi)"
   ]
  },
  {
   "cell_type": "code",
   "execution_count": null,
   "id": "c36418ebbd0e59a4",
   "metadata": {
    "ExecuteTime": {
     "end_time": "2024-11-01T14:42:13.931812Z",
     "start_time": "2024-11-01T14:42:13.928714Z"
    }
   },
   "outputs": [],
   "source": [
    "# Automate input reading: select patient, action, imu/ppg, left/right ear, sensor congiration (from 1-4)\n",
    "patient = 0\n",
    "action = 7\n",
    "imu = False\n",
    "ppg = True\n",
    "right_ear = False\n",
    "left_ear = True\n",
    "sensor_configuration = 1\n",
    "\n",
    "input_file_path = '../data/Dataset/P'+ str(patient) + '/EARBUDS/' + str(patient) + '-' + action_name_for_file[action] + '-' + ['imu' if imu==1 else ('ppg' if ppg else None)][0] +                  '-' + ['right' if right_ear==1 else ('left' if left_ear else None)][0] + '.csv'\n",
    "input_file_path"
   ]
  },
  {
   "cell_type": "code",
   "execution_count": null,
   "id": "3f6d5220a16c3824",
   "metadata": {
    "ExecuteTime": {
     "end_time": "2024-11-01T14:42:14.058015Z",
     "start_time": "2024-11-01T14:42:14.040818Z"
    }
   },
   "outputs": [],
   "source": [
    "# Read in csv file, add sensor configration type and change to ms timestamps\n",
    "df_data = pd.read_csv(\n",
    "    input_file_path,\n",
    "    sep=',',           # specify delimiter (default is ',')\n",
    "    header=0,          # row number to use as column names (0 means the first row)\n",
    "    na_values=['NA', ''],  # specify which values should be considered NaN\n",
    ")\n",
    "\n",
    "if ppg:\n",
    "    # Add a 'configuration' column initialized with NaN values\n",
    "    df_data['sensor_config'] = pd.NA\n",
    "\n",
    "    # Start with adding sensor configuration index\n",
    "    config_type = 1\n",
    "    config_rows = []\n",
    "\n",
    "    # Loop through rows, change timesteps, store configuration changes and assign configuration index\n",
    "    for i, row in df_data.iterrows():\n",
    "        if row['timestamp'].startswith('#'):\n",
    "            df_data.at[i, 'sensor_config'] = 'Config Change'\n",
    "            config_rows.append(i)\n",
    "            config_type += 1\n",
    "        else:\n",
    "            df_data.at[i, 'sensor_config'] = config_type\n",
    "            df_data.at[i, 'timestamp'] = pd.to_datetime(df_data.at[i, 'timestamp'], unit='ms')\n",
    "\n",
    "    # Select the sensor configuration, \n",
    "    df_data_sensor_config = df_data[df_data['sensor_config'] == sensor_configuration]\n",
    "\n",
    "    # Convert all ppg signals to numpy arrays, change dtype to int and discard the first and last second\n",
    "    array_green_sensor_config = np.array(df_data_sensor_config['green']).astype(int)[100:-100]\n",
    "    array_ir_sensor_config = np.array(df_data_sensor_config['ir']).astype(int)[100:-100]\n",
    "    array_red_sensor_config = np.array(df_data_sensor_config['red']).astype(int)[100:-100]\n",
    "\n",
    "    # Print the resulting DataFrame\n",
    "    print(\"Time of sensor configuration change:\", '\\n', df_data.iloc[config_rows], '\\n')\n",
    "    #print(\"Added sensor_config and converted timesteps:\", '\\n',df_data)\n",
    "    print(\"Selected sensor configuration:\", '\\n', df_data_sensor_config)\n",
    "    print(\"The green ppg signal -\", \"sample size:\", '\\n', array_green_sensor_config, '-', len(array_green_sensor_config))\n",
    "    print(\"The ir ppg signal -\", \"sample size:\", '\\n', array_ir_sensor_config, '-', len(array_ir_sensor_config))\n",
    "    print(\"The red ppg signal -\", \"sample size:\", '\\n', array_red_sensor_config, '-', len(array_red_sensor_config))"
   ]
  },
  {
   "cell_type": "code",
   "execution_count": null,
   "id": "c94f1d31",
   "metadata": {},
   "outputs": [],
   "source": [
    "# Create a subplot figure showing the 3 different ppg signals\n",
    "downsampling_rate = 1\n",
    "fig, axes = plt.subplots(1, 3, figsize=(20, 6))  # 1 row, 3 columns\n",
    "\n",
    "axes[0].plot(array_green_sensor_config[::downsampling_rate], label='Green PPG', color='g')\n",
    "axes[0].set_title(\"Green PPG signals\")\n",
    "axes[0].set_xlabel(\"samples\")\n",
    "axes[0].set_ylabel(\"arb. unit\")\n",
    "axes[0].legend()\n",
    "\n",
    "axes[1].plot(array_ir_sensor_config[::downsampling_rate], label='IR PPG', color='darkviolet')\n",
    "axes[1].set_title(\"IR PPG signals\")\n",
    "axes[1].set_xlabel(\"samples\")\n",
    "axes[1].set_ylabel(\"arb. unit\")\n",
    "axes[1].legend()\n",
    "\n",
    "axes[2].plot(array_red_sensor_config[::downsampling_rate], label='Red PPG', color='r')\n",
    "axes[2].set_title(\"Red PPG signals\")\n",
    "axes[2].set_xlabel(\"samples\")\n",
    "axes[2].set_ylabel(\"arb. unit\")\n",
    "axes[2].legend()\n",
    "\n",
    "plt.show()"
   ]
  },
  {
   "cell_type": "code",
   "execution_count": null,
   "id": "6b4d693a",
   "metadata": {},
   "outputs": [],
   "source": [
    "# Plotting the measurements over time\n",
    "plt.figure(figsize=(20, 12))\n",
    "\n",
    "# Plot each measurement series over time\n",
    "plt.plot(array_green_sensor_config, label='green PPG', color='g')\n",
    "#plt.plot(array_ir_sensor_config, label='ir PPG')\n",
    "#plt.plot(array_red_sensor_config, label='red PPG')\n",
    "\n",
    "# Labels and legend\n",
    "plt.title(\"Green PPG Signal over Time\")\n",
    "plt.xlabel(\"Samples\")\n",
    "plt.ylabel(\"arb. unit\")\n",
    "plt.legend()\n",
    "plt.xticks(rotation=45)\n",
    "plt.grid(False)\n",
    "\n",
    "# Display the plot\n",
    "plt.show()"
   ]
  }
 ],
 "metadata": {
  "kernelspec": {
   "display_name": "transformer",
   "language": "python",
   "name": "python3"
  },
  "language_info": {
   "codemirror_mode": {
    "name": "ipython",
    "version": 3
   },
   "file_extension": ".py",
   "mimetype": "text/x-python",
   "name": "python",
   "nbconvert_exporter": "python",
   "pygments_lexer": "ipython3",
   "version": "3.12.7"
  }
 },
 "nbformat": 4,
 "nbformat_minor": 5
}
