{
 "cells": [
  {
   "cell_type": "markdown",
   "metadata": {},
   "source": [
    "# ECG Prediction using PPG signals"
   ]
  },
  {
   "cell_type": "code",
   "execution_count": 1,
   "metadata": {},
   "outputs": [],
   "source": [
    "import os\n",
    "import sys\n",
    "import psutil\n",
    "import torch\n",
    "from torch import nn\n",
    "import pandas as pd\n",
    "from sklearn.preprocessing import MinMaxScaler\n",
    "import matplotlib.pyplot as plt\n",
    "\n",
    "# Add the parent directory (i.e. transformer, means parent directory of 'scripts' and 'notebooks') to sys.path\n",
    "project_root = os.path.abspath(os.path.join(os.getcwd(), \"..\"))\n",
    "sys.path.append(project_root)\n",
    "\n",
    "# Import the function\n",
    "from scripts.m1_functions import *\n",
    "from scripts.m1_classes import *"
   ]
  },
  {
   "cell_type": "code",
   "execution_count": 2,
   "metadata": {},
   "outputs": [
    {
     "name": "stdout",
     "output_type": "stream",
     "text": [
      "Using cpu device\n"
     ]
    }
   ],
   "source": [
    "# Get cpu, gpu or mps device for training.\n",
    "device = (\n",
    "    \"cuda\"\n",
    "    if torch.cuda.is_available()\n",
    "    else \"mps\"\n",
    "    if torch.backends.mps.is_available()\n",
    "    else \"cpu\"\n",
    ")\n",
    "print(f\"Using {device} device\")"
   ]
  },
  {
   "cell_type": "code",
   "execution_count": 3,
   "metadata": {},
   "outputs": [],
   "source": [
    "df_filtered = data_loader(subject=10, action='sit')"
   ]
  },
  {
   "cell_type": "code",
   "execution_count": 20,
   "metadata": {},
   "outputs": [
    {
     "name": "stdout",
     "output_type": "stream",
     "text": [
      "X_train shape: torch.Size([9710, 100, 3]), y_train shape: torch.Size([9710, 100, 1])\n",
      "X_val shape: torch.Size([2428, 100, 3]), y_val shape: torch.Size([2428, 100, 1])\n"
     ]
    }
   ],
   "source": [
    "# Initialize scalers for predictors and target\n",
    "scaler_input = MinMaxScaler(feature_range=(0, 1))\n",
    "scaler_target = MinMaxScaler(feature_range=(0, 1))\n",
    "\n",
    "# Fit and transform predictors (pleth_4, pleth_5, pleth_6)\n",
    "input_columns = ['pleth_4', 'pleth_5', 'pleth_6']\n",
    "x_normalized = scaler_input.fit_transform(df_filtered[input_columns])\n",
    "\n",
    "# Fit and transform target (ecg)\n",
    "y_normalized = scaler_target.fit_transform(df_filtered[['ecg']])\n",
    "\n",
    "# Convert to PyTorch tensors\n",
    "x_data = torch.tensor(x_normalized, dtype=torch.float32)  # Shape: [samples, 3]\n",
    "y_data = torch.tensor(y_normalized, dtype=torch.float32)  # Shape: [samples, 1]\n",
    "\n",
    "# Reshape for sequence input\n",
    "'''\n",
    "change stepsize to 5, 10, 20?\n",
    "sequences are shifted by 1 timestamp / sample per sequence! \n",
    "'''\n",
    "sequence_length = 100  \n",
    "sequence_step_size = 20\n",
    "num_sequences = len(df_filtered) - sequence_length + 1\n",
    "subset = 1\n",
    "\n",
    "x_sequences = torch.stack([x_data[i:i + sequence_length] for i in range(0, int(num_sequences*subset), int(sequence_step_size))])  # [num_sequences, seq_length, 3]\n",
    "y_sequences = torch.stack([y_data[i:i + sequence_length] for i in range(0, int(num_sequences*subset), int(sequence_step_size))])  # [num_sequences, seq_length, 1]\n",
    "\n",
    "# Split ratio \n",
    "train_ratio = 0.8\n",
    "train_size = int(train_ratio * x_sequences.size(0))  # Number of training samples\n",
    "val_size = x_sequences.size(0) - train_size          # Number of validation samples\n",
    "\n",
    "# Slicing of the ratio\n",
    "X_train, X_val = x_sequences[:train_size], x_sequences[train_size:]\n",
    "y_train, y_val = y_sequences[:train_size], y_sequences[train_size:]\n",
    "\n",
    "# Print shapes for verification\n",
    "print(f\"X_train shape: {X_train.shape}, y_train shape: {y_train.shape}\")\n",
    "print(f\"X_val shape: {X_val.shape}, y_val shape: {y_val.shape}\")"
   ]
  },
  {
   "cell_type": "code",
   "execution_count": 6,
   "metadata": {},
   "outputs": [
    {
     "name": "stderr",
     "output_type": "stream",
     "text": [
      "/Users/andrifurrer/anaconda3/envs/transformer/lib/python3.12/site-packages/torch/nn/modules/transformer.py:306: UserWarning: enable_nested_tensor is True, but self.use_nested_tensor is False because encoder_layer.self_attn.batch_first was not True(use batch_first for better inference performance)\n",
      "  warnings.warn(f\"enable_nested_tensor is True, but self.use_nested_tensor is False because {why_not_sparsity_fast_path}\")\n"
     ]
    },
    {
     "name": "stdout",
     "output_type": "stream",
     "text": [
      "Memory usage: 65.9%\n",
      "Epoch 1/10 | Train Loss: 0.0061 | Val RMSE: 0.2181\n",
      "Memory usage: 66.0%\n",
      "Epoch 2/10 | Train Loss: 0.0057 | Val RMSE: 0.2146\n",
      "Memory usage: 65.8%\n",
      "Epoch 3/10 | Train Loss: 0.0058 | Val RMSE: 0.2116\n",
      "Memory usage: 66.1%\n",
      "Epoch 4/10 | Train Loss: 0.0054 | Val RMSE: 0.2084\n",
      "Memory usage: 65.8%\n",
      "Epoch 5/10 | Train Loss: 0.0050 | Val RMSE: 0.2053\n",
      "Memory usage: 65.7%\n",
      "Epoch 6/10 | Train Loss: 0.0047 | Val RMSE: 0.2024\n",
      "Memory usage: 65.6%\n",
      "Epoch 7/10 | Train Loss: 0.0048 | Val RMSE: 0.2004\n",
      "Memory usage: 65.6%\n",
      "Epoch 8/10 | Train Loss: 0.0047 | Val RMSE: 0.1985\n",
      "Memory usage: 65.5%\n",
      "Epoch 9/10 | Train Loss: 0.0045 | Val RMSE: 0.1965\n",
      "Memory usage: 65.5%\n",
      "Epoch 10/10 | Train Loss: 0.0045 | Val RMSE: 0.1946\n"
     ]
    }
   ],
   "source": [
    "# Model initialization \n",
    "d_model = 8  # Embedding dimension\n",
    "input_dim = 3  # 3 PPG signals (red, green, IR)\n",
    "output_dim = 1  # 1 ECG target per time step\n",
    "nhead = 2  # Attention heads\n",
    "num_layers = 2  # Number of transformer layers\n",
    "batch_size = 16  # Batch size\n",
    "\n",
    "\n",
    "model = TransformerTimeSeries(input_dim=input_dim, output_dim=output_dim, d_model=d_model, nhead=nhead, num_layers=num_layers) \n",
    "output = model(x_sequences)\n",
    "\n",
    "# Loss function: Mean Squared Error for regression tasks\n",
    "loss_fn = nn.MSELoss()\n",
    "\n",
    "# Optimizer: Adam optimizer\n",
    "optimizer = torch.optim.Adam(model.parameters(), lr=1e-4)\n",
    "\n",
    "num_epochs = 10  # Number of epochs to train\n",
    "\n",
    "# Training loop\n",
    "for epoch in range(num_epochs):\n",
    "    model.train()  # Set model to training mode\n",
    "    \n",
    "    # Initialize running loss\n",
    "    running_loss = 0.0\n",
    "\n",
    "    # Iterate through the training data in batches\n",
    "    for i in range(0, len(X_train), batch_size):\n",
    "        # Get the current batch\n",
    "        batch_X = X_train[i:i+batch_size]\n",
    "        batch_y = y_train[i:i+batch_size]\n",
    "        \n",
    "        # Zero the gradients\n",
    "        optimizer.zero_grad()\n",
    "\n",
    "        # Forward pass through the model\n",
    "        predictions = model(batch_X)\n",
    "\n",
    "        # Calculate loss (MSE between predicted ECG and actual ECG)\n",
    "        loss = loss_fn(predictions, batch_y)\n",
    "\n",
    "        # Backward pass (compute gradients)\n",
    "        loss.backward()\n",
    "\n",
    "        # Update the weights\n",
    "        optimizer.step()\n",
    "\n",
    "        # Update running loss\n",
    "        running_loss += loss.item()\n",
    "\n",
    "    # Calculate the average loss for the epoch\n",
    "    avg_loss = running_loss / len(X_train)\n",
    "    \n",
    "    # Validation metrics (optional but useful)\n",
    "    model.eval()  # Set model to evaluation mode\n",
    "    with torch.no_grad():\n",
    "        val_predictions = model(X_val)\n",
    "        val_loss = loss_fn(val_predictions, y_val).item()\n",
    "        val_rmse = torch.sqrt(torch.tensor(val_loss))\n",
    "        print(f\"Memory usage: {psutil.virtual_memory().percent}%\")\n",
    "    \n",
    "    print(f\"Epoch {epoch+1}/{num_epochs} | Train Loss: {avg_loss:.4f} | Val RMSE: {val_rmse:.4f}\")"
   ]
  },
  {
   "cell_type": "code",
   "execution_count": 7,
   "metadata": {},
   "outputs": [],
   "source": [
    "torch.save(model.state_dict(), '../models/transformer_test.pth')"
   ]
  },
  {
   "cell_type": "code",
   "execution_count": 9,
   "metadata": {},
   "outputs": [
    {
     "ename": "RuntimeError",
     "evalue": "Error(s) in loading state_dict for TransformerTimeSeries:\n\tMissing key(s) in state_dict: \"transformer_encoder.layers.2.self_attn.in_proj_weight\", \"transformer_encoder.layers.2.self_attn.in_proj_bias\", \"transformer_encoder.layers.2.self_attn.out_proj.weight\", \"transformer_encoder.layers.2.self_attn.out_proj.bias\", \"transformer_encoder.layers.2.linear1.weight\", \"transformer_encoder.layers.2.linear1.bias\", \"transformer_encoder.layers.2.linear2.weight\", \"transformer_encoder.layers.2.linear2.bias\", \"transformer_encoder.layers.2.norm1.weight\", \"transformer_encoder.layers.2.norm1.bias\", \"transformer_encoder.layers.2.norm2.weight\", \"transformer_encoder.layers.2.norm2.bias\", \"transformer_encoder.layers.3.self_attn.in_proj_weight\", \"transformer_encoder.layers.3.self_attn.in_proj_bias\", \"transformer_encoder.layers.3.self_attn.out_proj.weight\", \"transformer_encoder.layers.3.self_attn.out_proj.bias\", \"transformer_encoder.layers.3.linear1.weight\", \"transformer_encoder.layers.3.linear1.bias\", \"transformer_encoder.layers.3.linear2.weight\", \"transformer_encoder.layers.3.linear2.bias\", \"transformer_encoder.layers.3.norm1.weight\", \"transformer_encoder.layers.3.norm1.bias\", \"transformer_encoder.layers.3.norm2.weight\", \"transformer_encoder.layers.3.norm2.bias\". \n\tsize mismatch for embedding.weight: copying a param with shape torch.Size([8, 3]) from checkpoint, the shape in current model is torch.Size([32, 3]).\n\tsize mismatch for embedding.bias: copying a param with shape torch.Size([8]) from checkpoint, the shape in current model is torch.Size([32]).\n\tsize mismatch for transformer_encoder.layers.0.self_attn.in_proj_weight: copying a param with shape torch.Size([24, 8]) from checkpoint, the shape in current model is torch.Size([96, 32]).\n\tsize mismatch for transformer_encoder.layers.0.self_attn.in_proj_bias: copying a param with shape torch.Size([24]) from checkpoint, the shape in current model is torch.Size([96]).\n\tsize mismatch for transformer_encoder.layers.0.self_attn.out_proj.weight: copying a param with shape torch.Size([8, 8]) from checkpoint, the shape in current model is torch.Size([32, 32]).\n\tsize mismatch for transformer_encoder.layers.0.self_attn.out_proj.bias: copying a param with shape torch.Size([8]) from checkpoint, the shape in current model is torch.Size([32]).\n\tsize mismatch for transformer_encoder.layers.0.linear1.weight: copying a param with shape torch.Size([128, 8]) from checkpoint, the shape in current model is torch.Size([128, 32]).\n\tsize mismatch for transformer_encoder.layers.0.linear2.weight: copying a param with shape torch.Size([8, 128]) from checkpoint, the shape in current model is torch.Size([32, 128]).\n\tsize mismatch for transformer_encoder.layers.0.linear2.bias: copying a param with shape torch.Size([8]) from checkpoint, the shape in current model is torch.Size([32]).\n\tsize mismatch for transformer_encoder.layers.0.norm1.weight: copying a param with shape torch.Size([8]) from checkpoint, the shape in current model is torch.Size([32]).\n\tsize mismatch for transformer_encoder.layers.0.norm1.bias: copying a param with shape torch.Size([8]) from checkpoint, the shape in current model is torch.Size([32]).\n\tsize mismatch for transformer_encoder.layers.0.norm2.weight: copying a param with shape torch.Size([8]) from checkpoint, the shape in current model is torch.Size([32]).\n\tsize mismatch for transformer_encoder.layers.0.norm2.bias: copying a param with shape torch.Size([8]) from checkpoint, the shape in current model is torch.Size([32]).\n\tsize mismatch for transformer_encoder.layers.1.self_attn.in_proj_weight: copying a param with shape torch.Size([24, 8]) from checkpoint, the shape in current model is torch.Size([96, 32]).\n\tsize mismatch for transformer_encoder.layers.1.self_attn.in_proj_bias: copying a param with shape torch.Size([24]) from checkpoint, the shape in current model is torch.Size([96]).\n\tsize mismatch for transformer_encoder.layers.1.self_attn.out_proj.weight: copying a param with shape torch.Size([8, 8]) from checkpoint, the shape in current model is torch.Size([32, 32]).\n\tsize mismatch for transformer_encoder.layers.1.self_attn.out_proj.bias: copying a param with shape torch.Size([8]) from checkpoint, the shape in current model is torch.Size([32]).\n\tsize mismatch for transformer_encoder.layers.1.linear1.weight: copying a param with shape torch.Size([128, 8]) from checkpoint, the shape in current model is torch.Size([128, 32]).\n\tsize mismatch for transformer_encoder.layers.1.linear2.weight: copying a param with shape torch.Size([8, 128]) from checkpoint, the shape in current model is torch.Size([32, 128]).\n\tsize mismatch for transformer_encoder.layers.1.linear2.bias: copying a param with shape torch.Size([8]) from checkpoint, the shape in current model is torch.Size([32]).\n\tsize mismatch for transformer_encoder.layers.1.norm1.weight: copying a param with shape torch.Size([8]) from checkpoint, the shape in current model is torch.Size([32]).\n\tsize mismatch for transformer_encoder.layers.1.norm1.bias: copying a param with shape torch.Size([8]) from checkpoint, the shape in current model is torch.Size([32]).\n\tsize mismatch for transformer_encoder.layers.1.norm2.weight: copying a param with shape torch.Size([8]) from checkpoint, the shape in current model is torch.Size([32]).\n\tsize mismatch for transformer_encoder.layers.1.norm2.bias: copying a param with shape torch.Size([8]) from checkpoint, the shape in current model is torch.Size([32]).\n\tsize mismatch for fc_out.weight: copying a param with shape torch.Size([1, 8]) from checkpoint, the shape in current model is torch.Size([1, 32]).",
     "output_type": "error",
     "traceback": [
      "\u001b[0;31m---------------------------------------------------------------------------\u001b[0m",
      "\u001b[0;31mRuntimeError\u001b[0m                              Traceback (most recent call last)",
      "Cell \u001b[0;32mIn[9], line 3\u001b[0m\n\u001b[1;32m      1\u001b[0m \u001b[38;5;66;03m# Load model later for inference\u001b[39;00m\n\u001b[1;32m      2\u001b[0m model \u001b[38;5;241m=\u001b[39m TransformerTimeSeries(input_dim\u001b[38;5;241m=\u001b[39m\u001b[38;5;241m3\u001b[39m, output_dim\u001b[38;5;241m=\u001b[39m\u001b[38;5;241m1\u001b[39m)  \u001b[38;5;66;03m# Initialize with the same architecture\u001b[39;00m\n\u001b[0;32m----> 3\u001b[0m \u001b[43mmodel\u001b[49m\u001b[38;5;241;43m.\u001b[39;49m\u001b[43mload_state_dict\u001b[49m\u001b[43m(\u001b[49m\u001b[43mtorch\u001b[49m\u001b[38;5;241;43m.\u001b[39;49m\u001b[43mload\u001b[49m\u001b[43m(\u001b[49m\u001b[38;5;124;43m'\u001b[39;49m\u001b[38;5;124;43m../models/transformer_test.pth\u001b[39;49m\u001b[38;5;124;43m'\u001b[39;49m\u001b[43m)\u001b[49m\u001b[43m)\u001b[49m\n\u001b[1;32m      4\u001b[0m model\u001b[38;5;241m.\u001b[39meval()  \u001b[38;5;66;03m# Set to evaluation mode\u001b[39;00m\n\u001b[1;32m      5\u001b[0m \u001b[38;5;28;01mwith\u001b[39;00m torch\u001b[38;5;241m.\u001b[39mno_grad():\n",
      "File \u001b[0;32m~/anaconda3/envs/transformer/lib/python3.12/site-packages/torch/nn/modules/module.py:2189\u001b[0m, in \u001b[0;36mModule.load_state_dict\u001b[0;34m(self, state_dict, strict, assign)\u001b[0m\n\u001b[1;32m   2184\u001b[0m         error_msgs\u001b[38;5;241m.\u001b[39minsert(\n\u001b[1;32m   2185\u001b[0m             \u001b[38;5;241m0\u001b[39m, \u001b[38;5;124m'\u001b[39m\u001b[38;5;124mMissing key(s) in state_dict: \u001b[39m\u001b[38;5;132;01m{}\u001b[39;00m\u001b[38;5;124m. \u001b[39m\u001b[38;5;124m'\u001b[39m\u001b[38;5;241m.\u001b[39mformat(\n\u001b[1;32m   2186\u001b[0m                 \u001b[38;5;124m'\u001b[39m\u001b[38;5;124m, \u001b[39m\u001b[38;5;124m'\u001b[39m\u001b[38;5;241m.\u001b[39mjoin(\u001b[38;5;124mf\u001b[39m\u001b[38;5;124m'\u001b[39m\u001b[38;5;124m\"\u001b[39m\u001b[38;5;132;01m{\u001b[39;00mk\u001b[38;5;132;01m}\u001b[39;00m\u001b[38;5;124m\"\u001b[39m\u001b[38;5;124m'\u001b[39m \u001b[38;5;28;01mfor\u001b[39;00m k \u001b[38;5;129;01min\u001b[39;00m missing_keys)))\n\u001b[1;32m   2188\u001b[0m \u001b[38;5;28;01mif\u001b[39;00m \u001b[38;5;28mlen\u001b[39m(error_msgs) \u001b[38;5;241m>\u001b[39m \u001b[38;5;241m0\u001b[39m:\n\u001b[0;32m-> 2189\u001b[0m     \u001b[38;5;28;01mraise\u001b[39;00m \u001b[38;5;167;01mRuntimeError\u001b[39;00m(\u001b[38;5;124m'\u001b[39m\u001b[38;5;124mError(s) in loading state_dict for \u001b[39m\u001b[38;5;132;01m{}\u001b[39;00m\u001b[38;5;124m:\u001b[39m\u001b[38;5;130;01m\\n\u001b[39;00m\u001b[38;5;130;01m\\t\u001b[39;00m\u001b[38;5;132;01m{}\u001b[39;00m\u001b[38;5;124m'\u001b[39m\u001b[38;5;241m.\u001b[39mformat(\n\u001b[1;32m   2190\u001b[0m                        \u001b[38;5;28mself\u001b[39m\u001b[38;5;241m.\u001b[39m\u001b[38;5;18m__class__\u001b[39m\u001b[38;5;241m.\u001b[39m\u001b[38;5;18m__name__\u001b[39m, \u001b[38;5;124m\"\u001b[39m\u001b[38;5;130;01m\\n\u001b[39;00m\u001b[38;5;130;01m\\t\u001b[39;00m\u001b[38;5;124m\"\u001b[39m\u001b[38;5;241m.\u001b[39mjoin(error_msgs)))\n\u001b[1;32m   2191\u001b[0m \u001b[38;5;28;01mreturn\u001b[39;00m _IncompatibleKeys(missing_keys, unexpected_keys)\n",
      "\u001b[0;31mRuntimeError\u001b[0m: Error(s) in loading state_dict for TransformerTimeSeries:\n\tMissing key(s) in state_dict: \"transformer_encoder.layers.2.self_attn.in_proj_weight\", \"transformer_encoder.layers.2.self_attn.in_proj_bias\", \"transformer_encoder.layers.2.self_attn.out_proj.weight\", \"transformer_encoder.layers.2.self_attn.out_proj.bias\", \"transformer_encoder.layers.2.linear1.weight\", \"transformer_encoder.layers.2.linear1.bias\", \"transformer_encoder.layers.2.linear2.weight\", \"transformer_encoder.layers.2.linear2.bias\", \"transformer_encoder.layers.2.norm1.weight\", \"transformer_encoder.layers.2.norm1.bias\", \"transformer_encoder.layers.2.norm2.weight\", \"transformer_encoder.layers.2.norm2.bias\", \"transformer_encoder.layers.3.self_attn.in_proj_weight\", \"transformer_encoder.layers.3.self_attn.in_proj_bias\", \"transformer_encoder.layers.3.self_attn.out_proj.weight\", \"transformer_encoder.layers.3.self_attn.out_proj.bias\", \"transformer_encoder.layers.3.linear1.weight\", \"transformer_encoder.layers.3.linear1.bias\", \"transformer_encoder.layers.3.linear2.weight\", \"transformer_encoder.layers.3.linear2.bias\", \"transformer_encoder.layers.3.norm1.weight\", \"transformer_encoder.layers.3.norm1.bias\", \"transformer_encoder.layers.3.norm2.weight\", \"transformer_encoder.layers.3.norm2.bias\". \n\tsize mismatch for embedding.weight: copying a param with shape torch.Size([8, 3]) from checkpoint, the shape in current model is torch.Size([32, 3]).\n\tsize mismatch for embedding.bias: copying a param with shape torch.Size([8]) from checkpoint, the shape in current model is torch.Size([32]).\n\tsize mismatch for transformer_encoder.layers.0.self_attn.in_proj_weight: copying a param with shape torch.Size([24, 8]) from checkpoint, the shape in current model is torch.Size([96, 32]).\n\tsize mismatch for transformer_encoder.layers.0.self_attn.in_proj_bias: copying a param with shape torch.Size([24]) from checkpoint, the shape in current model is torch.Size([96]).\n\tsize mismatch for transformer_encoder.layers.0.self_attn.out_proj.weight: copying a param with shape torch.Size([8, 8]) from checkpoint, the shape in current model is torch.Size([32, 32]).\n\tsize mismatch for transformer_encoder.layers.0.self_attn.out_proj.bias: copying a param with shape torch.Size([8]) from checkpoint, the shape in current model is torch.Size([32]).\n\tsize mismatch for transformer_encoder.layers.0.linear1.weight: copying a param with shape torch.Size([128, 8]) from checkpoint, the shape in current model is torch.Size([128, 32]).\n\tsize mismatch for transformer_encoder.layers.0.linear2.weight: copying a param with shape torch.Size([8, 128]) from checkpoint, the shape in current model is torch.Size([32, 128]).\n\tsize mismatch for transformer_encoder.layers.0.linear2.bias: copying a param with shape torch.Size([8]) from checkpoint, the shape in current model is torch.Size([32]).\n\tsize mismatch for transformer_encoder.layers.0.norm1.weight: copying a param with shape torch.Size([8]) from checkpoint, the shape in current model is torch.Size([32]).\n\tsize mismatch for transformer_encoder.layers.0.norm1.bias: copying a param with shape torch.Size([8]) from checkpoint, the shape in current model is torch.Size([32]).\n\tsize mismatch for transformer_encoder.layers.0.norm2.weight: copying a param with shape torch.Size([8]) from checkpoint, the shape in current model is torch.Size([32]).\n\tsize mismatch for transformer_encoder.layers.0.norm2.bias: copying a param with shape torch.Size([8]) from checkpoint, the shape in current model is torch.Size([32]).\n\tsize mismatch for transformer_encoder.layers.1.self_attn.in_proj_weight: copying a param with shape torch.Size([24, 8]) from checkpoint, the shape in current model is torch.Size([96, 32]).\n\tsize mismatch for transformer_encoder.layers.1.self_attn.in_proj_bias: copying a param with shape torch.Size([24]) from checkpoint, the shape in current model is torch.Size([96]).\n\tsize mismatch for transformer_encoder.layers.1.self_attn.out_proj.weight: copying a param with shape torch.Size([8, 8]) from checkpoint, the shape in current model is torch.Size([32, 32]).\n\tsize mismatch for transformer_encoder.layers.1.self_attn.out_proj.bias: copying a param with shape torch.Size([8]) from checkpoint, the shape in current model is torch.Size([32]).\n\tsize mismatch for transformer_encoder.layers.1.linear1.weight: copying a param with shape torch.Size([128, 8]) from checkpoint, the shape in current model is torch.Size([128, 32]).\n\tsize mismatch for transformer_encoder.layers.1.linear2.weight: copying a param with shape torch.Size([8, 128]) from checkpoint, the shape in current model is torch.Size([32, 128]).\n\tsize mismatch for transformer_encoder.layers.1.linear2.bias: copying a param with shape torch.Size([8]) from checkpoint, the shape in current model is torch.Size([32]).\n\tsize mismatch for transformer_encoder.layers.1.norm1.weight: copying a param with shape torch.Size([8]) from checkpoint, the shape in current model is torch.Size([32]).\n\tsize mismatch for transformer_encoder.layers.1.norm1.bias: copying a param with shape torch.Size([8]) from checkpoint, the shape in current model is torch.Size([32]).\n\tsize mismatch for transformer_encoder.layers.1.norm2.weight: copying a param with shape torch.Size([8]) from checkpoint, the shape in current model is torch.Size([32]).\n\tsize mismatch for transformer_encoder.layers.1.norm2.bias: copying a param with shape torch.Size([8]) from checkpoint, the shape in current model is torch.Size([32]).\n\tsize mismatch for fc_out.weight: copying a param with shape torch.Size([1, 8]) from checkpoint, the shape in current model is torch.Size([1, 32])."
     ]
    }
   ],
   "source": [
    "# Load model later for inference\n",
    "model = TransformerTimeSeries(input_dim=3, output_dim=1)  # Initialize with the same architecture\n",
    "model.load_state_dict(torch.load('../models/transformer_test.pth'))\n",
    "model.eval()  # Set to evaluation mode\n",
    "with torch.no_grad():\n",
    "    val_predictions = model(X_val)\n",
    "    val_loss = loss_fn(val_predictions, y_val).item()\n",
    "    val_rmse = torch.sqrt(torch.tensor(val_loss))\n",
    "    print(f\"Memory usage: {psutil.virtual_memory().percent}%\")"
   ]
  },
  {
   "cell_type": "code",
   "execution_count": null,
   "metadata": {},
   "outputs": [],
   "source": [
    "# Reverse transform predicted ECG\n",
    "val_predictions=val_predictions.squeeze(-1)\n",
    "print(val_predictions.size())\n",
    "predictions_original_scale = scaler_target.inverse_transform(val_predictions.numpy())\n",
    "print(predictions_original_scale.shape)\n",
    "\n",
    "# Reverse transform input if needed\n",
    "y_val = y_val.squeeze(-1)\n",
    "print(y_val.size())\n",
    "inputs_original_scale = scaler_target.inverse_transform(y_val.numpy())\n",
    "print(inputs_original_scale.shape)"
   ]
  },
  {
   "cell_type": "code",
   "execution_count": null,
   "metadata": {},
   "outputs": [],
   "source": [
    "len(inputs_original_scale[:200][0])"
   ]
  },
  {
   "cell_type": "code",
   "execution_count": null,
   "metadata": {},
   "outputs": [],
   "source": [
    "import matplotlib.pyplot as plt\n",
    "import numpy as np\n",
    "\n",
    "# Randomly select an index from the validation data\n",
    "random_index = np.random.randint(0, len(val_predictions))\n",
    "\n",
    "# Select the corresponding actual and predicted ECG signals\n",
    "actual_ecg_random = y_val[random_index].numpy()  # Actual ECG signal\n",
    "predicted_ecg_random = val_predictions[random_index].numpy()  # Predicted ECG signal\n",
    "\n",
    "# Plot the actual and predicted ECG\n",
    "plt.figure(figsize=(10, 5))\n",
    "plt.plot(actual_ecg_random, label='Actual ECG')\n",
    "plt.plot(predicted_ecg_random, label='Predicted ECG')\n",
    "plt.title(f\"ECG Prediction vs Actual (Sequence {random_index})\")\n",
    "plt.xlabel('Time Step')\n",
    "plt.ylabel('ECG Signal')\n",
    "plt.legend()\n",
    "plt.show()\n"
   ]
  },
  {
   "cell_type": "code",
   "execution_count": null,
   "metadata": {},
   "outputs": [],
   "source": [
    "# Number of random sequences to plot\n",
    "num_sequences = 5\n",
    "\n",
    "# Create a plot\n",
    "plt.figure(figsize=(10, 6))\n",
    "\n",
    "for _ in range(num_sequences):\n",
    "    random_index = np.random.randint(0, len(val_predictions))\n",
    "    \n",
    "    # Select the corresponding actual and predicted ECG signals\n",
    "    actual_ecg_random = y_val[random_index].numpy()\n",
    "    predicted_ecg_random = val_predictions[random_index].numpy()\n",
    "    \n",
    "    # Plot both actual and predicted ECG\n",
    "    plt.plot(actual_ecg_random, label=f'Actual ECG {random_index}')\n",
    "    plt.plot(predicted_ecg_random, label=f'Predicted ECG {random_index}', linestyle='dashed')\n",
    "\n",
    "plt.title(\"ECG Predictions vs Actual for Random Sequences\")\n",
    "plt.xlabel('Time Step')\n",
    "plt.ylabel('ECG Signal')\n",
    "plt.legend()\n",
    "plt.show()\n"
   ]
  },
  {
   "cell_type": "code",
   "execution_count": null,
   "metadata": {},
   "outputs": [],
   "source": [
    "# Calculate the average ECG for both actual and predicted\n",
    "average_actual_ecg = np.mean(y_val.numpy(), axis=0)  # Average over all sequences\n",
    "average_predicted_ecg = np.mean(val_predictions.numpy(), axis=0)  # Average over all predictions\n",
    "\n",
    "# Plot the average ECG\n",
    "plt.figure(figsize=(10, 5))\n",
    "plt.plot(average_actual_ecg, label='Average Actual ECG')\n",
    "plt.plot(average_predicted_ecg, label='Average Predicted ECG')\n",
    "plt.title(\"Average ECG Prediction vs Actual\")\n",
    "plt.xlabel('Time Step')\n",
    "plt.ylabel('ECG Signal')\n",
    "plt.legend()\n",
    "plt.show()\n"
   ]
  },
  {
   "cell_type": "code",
   "execution_count": null,
   "metadata": {},
   "outputs": [],
   "source": [
    "from sklearn.metrics import mean_squared_error\n",
    "\n",
    "# Compute MSE for each sequence\n",
    "mse_per_sequence = [mean_squared_error(y_val[i].numpy(), val_predictions[i].numpy()) for i in range(len(val_predictions))]\n",
    "\n",
    "# Plot the MSE for each sequence\n",
    "plt.figure(figsize=(10, 5))\n",
    "plt.plot(mse_per_sequence, label='MSE per Sequence')\n",
    "plt.title(\"MSE per Sequence in the Validation Set\")\n",
    "plt.xlabel('Sequence Index')\n",
    "plt.ylabel('Mean Squared Error')\n",
    "plt.legend()\n",
    "plt.show()\n"
   ]
  },
  {
   "cell_type": "code",
   "execution_count": null,
   "metadata": {},
   "outputs": [],
   "source": [
    "# Calculate cumulative error or running average of MSE\n",
    "running_mse = np.cumsum(mse_per_sequence) / (np.arange(len(mse_per_sequence)) + 1)\n",
    "\n",
    "# Plot the running MSE\n",
    "plt.figure(figsize=(10, 5))\n",
    "plt.plot(running_mse, label='Running Average of MSE')\n",
    "plt.title(\"Running Average of MSE Across Sequences\")\n",
    "plt.xlabel('Sequence Index')\n",
    "plt.ylabel('Running Average MSE')\n",
    "plt.legend()\n",
    "plt.show()\n"
   ]
  },
  {
   "cell_type": "code",
   "execution_count": null,
   "metadata": {},
   "outputs": [],
   "source": [
    "# Plot the continuous signal\n",
    "plt.figure(figsize=(12, 6))\n",
    "plt.plot(inputs_original_scale, label='Actual ECG', alpha=0.7, linestyle='-', linewidth=1.5)\n",
    "plt.plot(predictions_original_scale, label='Predicted ECG', alpha=0.7, linestyle='--', linewidth=1.5)\n",
    "plt.title('ECG Signal: Actual vs Predicted (Continuous)')\n",
    "plt.xlabel('Time Steps')\n",
    "plt.ylabel('Amplitude')\n",
    "plt.legend()\n",
    "plt.grid(True)\n",
    "plt.show()"
   ]
  }
 ],
 "metadata": {
  "kernelspec": {
   "display_name": "transformer",
   "language": "python",
   "name": "python3"
  },
  "language_info": {
   "codemirror_mode": {
    "name": "ipython",
    "version": 3
   },
   "file_extension": ".py",
   "mimetype": "text/x-python",
   "name": "python",
   "nbconvert_exporter": "python",
   "pygments_lexer": "ipython3",
   "version": "3.12.7"
  }
 },
 "nbformat": 4,
 "nbformat_minor": 2
}
