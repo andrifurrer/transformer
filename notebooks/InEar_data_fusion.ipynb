{
 "cells": [
  {
   "cell_type": "markdown",
   "metadata": {},
   "source": [
    "# Fuse all Data together"
   ]
  },
  {
   "cell_type": "code",
   "execution_count": null,
   "metadata": {},
   "outputs": [],
   "source": [
    "import os\n",
    "import pandas as pd\n",
    "import numpy as np\n",
    "import matplotlib.pyplot as plt"
   ]
  },
  {
   "cell_type": "code",
   "execution_count": null,
   "metadata": {},
   "outputs": [],
   "source": [
    "action_name_for_file = ['still', 'nod', 'shake', 'tilt', 'eyes-ud', 'eyes-lr', 'brow-raiser', 'brow-lowerer', 'wink-r',\n",
    "                        'wink-l', 'lip-puller', 'chin-raiser', 'mouth-stretch', 'chewing', 'speaking', 'walking', 'running']"
   ]
  },
  {
   "cell_type": "code",
   "execution_count": null,
   "metadata": {},
   "outputs": [],
   "source": [
    "def data_fusion(patient, right_ear, left_ear):\n",
    "    '''\n",
    "    Automate input reading: select patient, left/right ear\n",
    "    Read in csv file, change to ms timestamps\n",
    "    '''\n",
    "    # Check earside\n",
    "    ear_side = 'right' if right_ear else ('left' if left_ear else None)\n",
    "    if ear_side is None:\n",
    "        raise ValueError(\"Either `right_ear` or `left_ear` must be specified.\")\n",
    "    \n",
    "    # IMU\n",
    "    df_data_imu = pd.DataFrame()\n",
    "\n",
    "    for action in action_name_for_file:\n",
    "        file_path = f'../data/Dataset/P{patient}/EARBUDS/{patient}-{action}-imu-{ear_side}.csv'\n",
    "        \n",
    "        # Reading the CSV file\n",
    "        try:\n",
    "            df_temp = pd.read_csv(\n",
    "                file_path,\n",
    "                sep=',',           # specify delimiter (default is ',')\n",
    "                header=0,          # row number to use as column names (0 means the first row)\n",
    "                na_values=['NA', '']  # specify which values should be considered NaN\n",
    "            )\n",
    "            df_data_imu = pd.concat([df_data_imu, df_temp], ignore_index=True)\n",
    "            #print(f\"File found: {file_path}\")\n",
    "        \n",
    "        except FileNotFoundError:\n",
    "            print(f\"File not found: {file_path}\")\n",
    "\n",
    "    df_data_imu *= [1, 0.061, 0.061, 0.061, 17.5, 17.5, 17.5]\n",
    "    df_data_imu['timestamp'] = pd.to_datetime(df_data_imu['timestamp'], unit='ms')\n",
    "    df_data_imu['timestamp_diff'] = df_data_imu['timestamp'].diff()\n",
    "\n",
    "    ## PPG \n",
    "    df_data_ppg = pd.DataFrame()\n",
    "\n",
    "    for action in action_name_for_file:\n",
    "        file_path = f'../data/Dataset/P{patient}/EARBUDS/{patient}-{action}-ppg-{ear_side}.csv'\n",
    "        \n",
    "        # Reading the CSV file\n",
    "        try:\n",
    "            df_temp = pd.read_csv(\n",
    "                file_path,\n",
    "                sep=',',           # specify delimiter (default is ',')\n",
    "                header=0,          # row number to use as column names (0 means the first row)\n",
    "                na_values=['NA', '']  # specify which values should be considered NaN\n",
    "            )\n",
    "            df_data_ppg = pd.concat([df_data_ppg, df_temp], ignore_index=True)\n",
    "            #print(f\"File found: {file_path}\")\n",
    "        \n",
    "        except FileNotFoundError:\n",
    "            print(f\"File not found: {file_path}\")\n",
    "\n",
    "    # Handle PPG signals: Add a 'configuration' column initialized with NaN values\n",
    "    df_data_ppg['sensor_config'] = pd.NA\n",
    "\n",
    "    # Start with adding sensor configuration index\n",
    "    config_type = 1\n",
    "    config_rows = []\n",
    "\n",
    "    # Loop through rows, change timesteps, store configuration changes and assign configuration index\n",
    "    for i, row in df_data_ppg.iterrows():\n",
    "        if row['timestamp'].startswith('#'):\n",
    "            df_data_ppg.at[i, 'sensor_config'] = 'Config Change'\n",
    "            config_rows.append(i)\n",
    "            config_type += 1\n",
    "        else:\n",
    "            df_data_ppg.at[i, 'sensor_config'] = config_type\n",
    "            df_data_ppg.at[i, 'timestamp'] = pd.to_datetime(df_data_ppg.at[i, 'timestamp'], unit='ms')\n",
    "            #df_data_ppg['timestamp_diff'] = df_data_ppg['timestamp'].diff()\n",
    "\n",
    "    df_data_zephyr = pd.read_csv(\n",
    "        '../data/Dataset/P'+ str(patient) + '/ZEPHYR/' + str(patient) + '_' + 'Summary.csv',\n",
    "        sep=',',           # specify delimiter (default is ',')\n",
    "        header=0,          # row number to use as column names (0 means the first row)\n",
    "        na_values=['NA', ''],  # specify which values should be considered NaN\n",
    "    )\n",
    "    # Change timesteps\n",
    "    df_data_zephyr['Timestamp'] = pd.to_datetime(df_data_zephyr['Timestamp'], unit='ms')\n",
    "\n",
    "    return df_data_imu, df_data_ppg, df_data_zephyr"
   ]
  },
  {
   "cell_type": "code",
   "execution_count": null,
   "metadata": {},
   "outputs": [],
   "source": [
    "overview = pd.DataFrame(columns=['Patient', 'Start time actions PPG', 'Stop Time PPG', 'Start time Zephyr', 'Stop time Zephyr'])\n",
    "\n",
    "for patient in range(0, 28):\n",
    "    df_data_imu, df_data_ppg, df_data_zephyr = data_fusion(patient, right_ear=False, left_ear=True)\n",
    "    overview.loc[len(overview)] = [patient, df_data_ppg['timestamp'][0], df_data_ppg['timestamp'][len(df_data_ppg['timestamp'])-1], df_data_zephyr['Timestamp'][0], df_data_zephyr['Timestamp'][len(df_data_zephyr['Timestamp'])-1] ]\n",
    "\n"
   ]
  },
  {
   "cell_type": "code",
   "execution_count": null,
   "metadata": {},
   "outputs": [],
   "source": [
    "overview"
   ]
  },
  {
   "cell_type": "code",
   "execution_count": null,
   "metadata": {},
   "outputs": [],
   "source": [
    "df_data_imu, df_data_ppg, df_data_zephyr = data_fusion(patient=1, right_ear=False, left_ear=True)"
   ]
  },
  {
   "cell_type": "code",
   "execution_count": null,
   "metadata": {},
   "outputs": [],
   "source": [
    "df_data_ppg"
   ]
  },
  {
   "cell_type": "code",
   "execution_count": null,
   "metadata": {},
   "outputs": [],
   "source": [
    "df_data_imu"
   ]
  },
  {
   "cell_type": "code",
   "execution_count": null,
   "metadata": {},
   "outputs": [],
   "source": [
    "print(df_data_imu.to_string())"
   ]
  },
  {
   "cell_type": "code",
   "execution_count": null,
   "metadata": {},
   "outputs": [],
   "source": [
    "df_data_zephyr"
   ]
  },
  {
   "cell_type": "code",
   "execution_count": null,
   "metadata": {},
   "outputs": [],
   "source": [
    "# Plot the IMU Timestamps\n",
    "plt.figure(figsize=(20, 12))\n",
    "plt.plot(df_data_imu['timestamp_diff'][1:], color='b', label=\"IMU Timestamps\",)\n",
    "plt.title(\"All Timestamps differences of the IMU signals for one patient and all actions\")\n",
    "plt.xlabel(\"Timestamp samples\")\n",
    "plt.ylabel(\"Time difference of Timestamps\")\n",
    "plt.legend()\n",
    "plt.tight_layout()\n",
    "\n",
    "#plt.savefig('../results/data_analysis/tdiff_imu_p0.png')\n",
    "\n",
    "plt.show()"
   ]
  },
  {
   "cell_type": "code",
   "execution_count": null,
   "metadata": {},
   "outputs": [],
   "source": [
    "# Plot the IMU Timestamps\n",
    "plt.figure(figsize=(20, 12))\n",
    "plt.plot(df_data_imu['timestamp'], color='b', label=\"IMU Timestamps\")\n",
    "plt.plot(df_data_zephyr['Timestamp'], color='r', label='Zephyr')\n",
    "plt.title(\"All Timestamps of the IMU signals for one patient and all actions\")\n",
    "plt.xlabel(\"Timestamp samples\")\n",
    "plt.ylabel(\"Absolut time - (day, min)\")\n",
    "plt.legend()\n",
    "plt.tight_layout()\n",
    "\n",
    "#plt.savefig('../results/data_analysis/t_abs_imu_p0.png')\n",
    "\n",
    "plt.show()"
   ]
  }
 ],
 "metadata": {
  "kernelspec": {
   "display_name": "transformer",
   "language": "python",
   "name": "python3"
  },
  "language_info": {
   "codemirror_mode": {
    "name": "ipython",
    "version": 3
   },
   "file_extension": ".py",
   "mimetype": "text/x-python",
   "name": "python",
   "nbconvert_exporter": "python",
   "pygments_lexer": "ipython3",
   "version": "3.12.7"
  }
 },
 "nbformat": 4,
 "nbformat_minor": 2
}
