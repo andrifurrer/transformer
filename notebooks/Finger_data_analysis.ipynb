{
 "cells": [
  {
   "cell_type": "markdown",
   "metadata": {},
   "source": [
    "# Analysis of the ''Pulse Transit Time PPG Dataset''"
   ]
  },
  {
   "cell_type": "markdown",
   "metadata": {},
   "source": [
    "Article:  https://physionet.org/content/pulse-transit-time-ppg/1.1.0/csv/#files-panel"
   ]
  },
  {
   "cell_type": "code",
   "execution_count": null,
   "metadata": {},
   "outputs": [],
   "source": [
    "import os\n",
    "import sys\n",
    "import pandas as pd\n",
    "import matplotlib.pyplot as plt\n",
    "import numpy as np\n",
    "\n",
    "# Add the parent directory (i.e. transformer, means parent directory of 'scripts' and 'notebooks') to sys.path\n",
    "project_root = os.path.abspath(os.path.join(os.getcwd(), \"..\"))\n",
    "sys.path.append(project_root)\n",
    "\n",
    "# Import the function\n",
    "from scripts.basic_functions import *\n",
    "\n",
    "print(\"Succesful import!\")\n",
    "\n"
   ]
  },
  {
   "cell_type": "code",
   "execution_count": null,
   "metadata": {},
   "outputs": [],
   "source": [
    "def data_loader(subject, action):\n",
    "    '''\n",
    "    Automate input reading: select subject, action\n",
    "    Read in csv file\n",
    "    '''\n",
    "    df_data_ppg = pd.read_csv(\n",
    "        '../data/Finger/csv/s'+ str(subject) + '_' + str(action) + '.csv',\n",
    "        sep=',',           # specify delimiter (default is ',')\n",
    "        header=0,          # row number to use as column names (0 means the first row)\n",
    "        na_values=['NA', ''],  # specify which values should be considered NaN\n",
    "    )\n",
    "    return df_data_ppg"
   ]
  },
  {
   "cell_type": "code",
   "execution_count": null,
   "metadata": {},
   "outputs": [],
   "source": [
    "df_data = data_loader(subject=10, action='sit')\n",
    "df_data"
   ]
  },
  {
   "cell_type": "code",
   "execution_count": null,
   "metadata": {},
   "outputs": [],
   "source": [
    "df_data.iloc[:,[6,7,8]]"
   ]
  },
  {
   "cell_type": "code",
   "execution_count": null,
   "metadata": {},
   "outputs": [],
   "source": [
    "df_data.iloc[:,[0,1,6,7,8,14,15,16,17,18,19]]"
   ]
  },
  {
   "cell_type": "code",
   "execution_count": null,
   "metadata": {},
   "outputs": [],
   "source": [
    "# Plot the ECG signal\n",
    "plt.figure(figsize=(12, 6))\n",
    "plt.plot(df_data['ecg'][:2000], color='b', label=\"ECG Signal\",)\n",
    "plt.title(\"Zephyr ECG Signal\")\n",
    "plt.xlabel(\"Time (s)\")\n",
    "plt.ylabel(\"ECG\")\n",
    "plt.legend()\n",
    "plt.tight_layout()\n",
    "\n",
    "plt.show()"
   ]
  },
  {
   "cell_type": "code",
   "execution_count": null,
   "metadata": {},
   "outputs": [],
   "source": [
    "# Sample data and sampling frequency\n",
    "fs = 500  \n",
    "\n",
    "# Define bandpass range for PPG \n",
    "lowcut = 0.4\n",
    "highcut = 10 \n",
    "\n",
    "# Plot the filtered ECG signal\n",
    "plt.figure(figsize=(12, 6))\n",
    "plt.plot(bandpass_filter(df_data['ecg'][:2000], lowcut, highcut, fs, order=4), color='b', label=\"ECG Signal\",)\n",
    "plt.title(\"Zephyr ECG Signal\")\n",
    "plt.xlabel(\"Time (s)\")\n",
    "plt.ylabel(\"ECG\")\n",
    "plt.legend()\n",
    "plt.tight_layout()\n",
    "\n",
    "plt.show()"
   ]
  },
  {
   "cell_type": "code",
   "execution_count": null,
   "metadata": {},
   "outputs": [],
   "source": [
    "# Create a subplot figure showing the 3 different ppg signals\n",
    "range_min = 0\n",
    "range_max = -1\n",
    "fig, axes = plt.subplots(1, 3, figsize=(20, 6))  # 1 row, 3 columns\n",
    "\n",
    "axes[0].plot(df_data['pleth_4'][range_min:range_max], label='Red PPG', color='r')\n",
    "axes[0].set_title(\"Red PPG Signals\")\n",
    "axes[0].set_xlabel(\"samples\")\n",
    "axes[0].set_ylabel(\"arb. unit\")\n",
    "axes[0].legend()\n",
    "\n",
    "axes[1].plot(df_data['pleth_5'][range_min:range_max], label='IR PPG', color='darkviolet')\n",
    "axes[1].set_title(\"IR PPG Signals\")\n",
    "axes[1].set_xlabel(\"samples\")\n",
    "axes[1].set_ylabel(\"arb. unit\")\n",
    "axes[1].legend()\n",
    "\n",
    "axes[2].plot(df_data['pleth_6'][range_min:range_max], label='Green PPG', color='g')\n",
    "axes[2].set_title(\"Green PPG Signals\")\n",
    "axes[2].set_xlabel(\"samples\")\n",
    "axes[2].set_ylabel(\"arb. unit\")\n",
    "axes[2].legend()\n",
    "\n",
    "plt.show()"
   ]
  },
  {
   "cell_type": "code",
   "execution_count": null,
   "metadata": {},
   "outputs": [],
   "source": [
    "# Sample data and sampling frequency\n",
    "fs = 500  \n",
    "\n",
    "# Define bandpass range for PPG \n",
    "lowcut = 0.4\n",
    "highcut = 10\n",
    "\n",
    "# Apply the bandpass filter to the PPG signal\n",
    "filtered_red_ppg = bandpass_filter(df_data['pleth_4'], lowcut, highcut, fs, order=4)\n",
    "filtered_ir_ppg = bandpass_filter(df_data['pleth_5'], lowcut, highcut, fs, order=4)\n",
    "filtered_green_ppg = bandpass_filter(df_data['pleth_6'], lowcut, highcut, fs, order=4)"
   ]
  },
  {
   "cell_type": "code",
   "execution_count": null,
   "metadata": {},
   "outputs": [],
   "source": [
    "filtered_red_ppg"
   ]
  },
  {
   "cell_type": "code",
   "execution_count": null,
   "metadata": {},
   "outputs": [],
   "source": [
    "# Create a subplot figure showing the 3 different ppg signals\n",
    "range_min = 0\n",
    "range_max = 10000\n",
    "fig, axes = plt.subplots(1, 3, figsize=(20, 6))  # 1 row, 3 columns\n",
    "\n",
    "axes[0].plot(filtered_red_ppg[range_min:range_max], label='Red PPG', color='r')\n",
    "axes[0].set_title(\"Filtered Red PPG Signals\")\n",
    "axes[0].set_xlabel(\"samples\")\n",
    "axes[0].set_ylabel(\"arb. unit\")\n",
    "axes[0].legend()\n",
    "\n",
    "axes[1].plot(filtered_ir_ppg[range_min:range_max], label='IR PPG', color='darkviolet')\n",
    "axes[1].set_title(\"Filtered PPG Signals\")\n",
    "axes[1].set_xlabel(\"samples\")\n",
    "axes[1].set_ylabel(\"arb. unit\")\n",
    "axes[1].legend()\n",
    "\n",
    "axes[2].plot(filtered_green_ppg[range_min:range_max], label='Green PPG', color='g')\n",
    "axes[2].set_title(\"Filtered  PG Signals\")\n",
    "axes[2].set_xlabel(\"samples\")\n",
    "axes[2].set_ylabel(\"arb. unit\")\n",
    "axes[2].legend()\n",
    "\n",
    "plt.show()"
   ]
  },
  {
   "cell_type": "code",
   "execution_count": null,
   "metadata": {},
   "outputs": [],
   "source": [
    "# Create a subplot figure showing the 3 different ppg signals\n",
    "range_min = 0\n",
    "range_max = 10000\n",
    "fig, axes = plt.subplots(2, 3, figsize=(20, 6))  # 1 row, 3 columns\n",
    "\n",
    "axes[0][0].plot(df_data['pleth_4'][range_min:range_max], label='Green PPG', color='g')\n",
    "axes[0][0].set_title(\"Green PPG Signals\")\n",
    "axes[0][0].set_xlabel(\"samples\")\n",
    "axes[0][0].set_ylabel(\"arb. unit\")\n",
    "axes[0][0].legend()\n",
    "\n",
    "axes[1][0].plot(filtered_green_ppg[range_min:range_max], label='Filtered Green PPG', color='g')\n",
    "axes[1][0].set_title(\"Filtered Green PPG Signals\")\n",
    "axes[1][0].set_xlabel(\"samples\")\n",
    "axes[1][0].set_ylabel(\"arb. unit\")\n",
    "axes[1][0].legend()\n",
    "\n",
    "axes[0][1].plot(df_data['pleth_5'][range_min:range_max], label='IR PPG', color='darkviolet')\n",
    "axes[0][1].set_title(\"IR PPG Signals\")\n",
    "axes[0][1].set_xlabel(\"samples\")\n",
    "axes[0][1].set_ylabel(\"arb. unit\")\n",
    "axes[0][1].legend()\n",
    "\n",
    "axes[1][1].plot(filtered_ir_ppg[range_min:range_max], label='Filtered IR PPG', color='darkviolet')\n",
    "axes[1][1].set_title(\"FilteredIR PPG Signals\")\n",
    "axes[1][1].set_xlabel(\"samples\")\n",
    "axes[1][1].set_ylabel(\"arb. unit\")\n",
    "axes[1][1].legend()\n",
    "\n",
    "\n",
    "axes[0][2].plot(df_data['pleth_6'][range_min:range_max], label='Red PPG', color='r')\n",
    "axes[0][2].set_title(\"Red PPG Signals\")\n",
    "axes[0][2].set_xlabel(\"samples\")\n",
    "axes[0][2].set_ylabel(\"arb. unit\")\n",
    "axes[0][2].legend()\n",
    "\n",
    "axes[1][2].plot(filtered_red_ppg[range_min:range_max], label='Filtered Red PPG', color='r')\n",
    "axes[1][2].set_title(\"FilteredRed PPG Signals\")\n",
    "axes[1][2].set_xlabel(\"samples\")\n",
    "axes[1][2].set_ylabel(\"arb. unit\")\n",
    "axes[1][2].legend()\n",
    "\n",
    "#plt.savefig('../results/data_analysis/ppg_p0_a0_le_sc4.png')\n",
    "plt.show()"
   ]
  }
 ],
 "metadata": {
  "kernelspec": {
   "display_name": "transformer",
   "language": "python",
   "name": "python3"
  },
  "language_info": {
   "codemirror_mode": {
    "name": "ipython",
    "version": 3
   },
   "file_extension": ".py",
   "mimetype": "text/x-python",
   "name": "python",
   "nbconvert_exporter": "python",
   "pygments_lexer": "ipython3",
   "version": "3.12.7"
  }
 },
 "nbformat": 4,
 "nbformat_minor": 2
}
