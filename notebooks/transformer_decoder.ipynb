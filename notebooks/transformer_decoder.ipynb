{
 "cells": [
  {
   "metadata": {},
   "cell_type": "markdown",
   "source": "# Decoder Transformer for Text Generation",
   "id": "3d3bc50e647927b5"
  },
  {
   "metadata": {
    "ExecuteTime": {
     "end_time": "2024-10-28T11:48:16.807834Z",
     "start_time": "2024-10-28T11:48:16.771381Z"
    }
   },
   "cell_type": "code",
   "source": [
    "import os\n",
    "import numpy as np"
   ],
   "id": "7bb0ed18115ce9ac",
   "outputs": [],
   "execution_count": 34
  },
  {
   "metadata": {},
   "cell_type": "code",
   "outputs": [],
   "execution_count": null,
   "source": "221770",
   "id": "2add20a45f71f3cc"
  },
  {
   "metadata": {
    "ExecuteTime": {
     "end_time": "2024-10-28T16:04:19.293775Z",
     "start_time": "2024-10-28T16:04:19.256774Z"
    }
   },
   "cell_type": "code",
   "source": [
    "# Read in the txt file using the latin1 encoding\n",
    "input_file_path = os.path.join('../data', 'hamlet.txt')\n",
    "with open(input_file_path, 'r', encoding='utf-8') as f:\n",
    "    data = f.read()\n",
    "    #data.encode('utf-8').strip()\n",
    "    print(data[:150])\n",
    "print(f\"length of data: {len(data)}\")"
   ],
   "id": "8258c7de2a6effe",
   "outputs": [
    {
     "ename": "UnicodeDecodeError",
     "evalue": "'utf-8' codec can't decode byte 0x85 in position 221717: invalid start byte",
     "output_type": "error",
     "traceback": [
      "\u001B[0;31m---------------------------------------------------------------------------\u001B[0m",
      "\u001B[0;31mUnicodeDecodeError\u001B[0m                        Traceback (most recent call last)",
      "Cell \u001B[0;32mIn[111], line 4\u001B[0m\n\u001B[1;32m      2\u001B[0m input_file_path \u001B[38;5;241m=\u001B[39m os\u001B[38;5;241m.\u001B[39mpath\u001B[38;5;241m.\u001B[39mjoin(\u001B[38;5;124m'\u001B[39m\u001B[38;5;124m../data\u001B[39m\u001B[38;5;124m'\u001B[39m, \u001B[38;5;124m'\u001B[39m\u001B[38;5;124mhamlet.txt\u001B[39m\u001B[38;5;124m'\u001B[39m)\n\u001B[1;32m      3\u001B[0m \u001B[38;5;28;01mwith\u001B[39;00m \u001B[38;5;28mopen\u001B[39m(input_file_path, \u001B[38;5;124m'\u001B[39m\u001B[38;5;124mr\u001B[39m\u001B[38;5;124m'\u001B[39m, encoding\u001B[38;5;241m=\u001B[39m\u001B[38;5;124m'\u001B[39m\u001B[38;5;124mutf-8\u001B[39m\u001B[38;5;124m'\u001B[39m) \u001B[38;5;28;01mas\u001B[39;00m f:\n\u001B[0;32m----> 4\u001B[0m     data \u001B[38;5;241m=\u001B[39m \u001B[43mf\u001B[49m\u001B[38;5;241;43m.\u001B[39;49m\u001B[43mread\u001B[49m\u001B[43m(\u001B[49m\u001B[43m)\u001B[49m\n\u001B[1;32m      5\u001B[0m     \u001B[38;5;66;03m#data.encode('utf-8').strip()\u001B[39;00m\n\u001B[1;32m      6\u001B[0m     \u001B[38;5;28mprint\u001B[39m(data[:\u001B[38;5;241m150\u001B[39m])\n",
      "File \u001B[0;32m<frozen codecs>:322\u001B[0m, in \u001B[0;36mdecode\u001B[0;34m(self, input, final)\u001B[0m\n",
      "\u001B[0;31mUnicodeDecodeError\u001B[0m: 'utf-8' codec can't decode byte 0x85 in position 221717: invalid start byte"
     ]
    }
   ],
   "execution_count": 111
  },
  {
   "metadata": {
    "ExecuteTime": {
     "end_time": "2024-10-28T12:11:59.636953Z",
     "start_time": "2024-10-28T12:11:59.628823Z"
    }
   },
   "cell_type": "code",
   "source": [
    "# Create a list with all the characters and get the size of it\n",
    "chars = sorted(list(set(data)))\n",
    "vocab_size = len(chars)\n",
    "print(\"all the unique characters:\", ''.join(chars))\n",
    "print(f\"vocab size: {vocab_size:,}\")"
   ],
   "id": "5ba730cd7a302482",
   "outputs": [
    {
     "name": "stdout",
     "output_type": "stream",
     "text": [
      "all the unique characters: \u0000\u0001\u0003\n",
      "\u000B\u0010\u0013\u001D !\"#$%&'()*,-./0123456789:;<>?ABCDEFGHIJKLMNOPQRSTUVWXYZ[]_abcdefghijklmnopqrstuvwxyz{} ¡¢¦¨©­³ÃÎÙÚâ\n",
      "vocab size: 120\n"
     ]
    }
   ],
   "execution_count": 56
  },
  {
   "metadata": {
    "ExecuteTime": {
     "end_time": "2024-10-28T15:48:41.154766Z",
     "start_time": "2024-10-28T15:48:40.991232Z"
    }
   },
   "cell_type": "code",
   "source": [
    "# Create a mapping from string ot integer and from integer to string\n",
    "stoi = { ch:i for i,ch in enumerate(chars) }\n",
    "itos = { i:ch for i,ch in enumerate(chars) }\n",
    "def encode(s):\n",
    "    return [stoi[c] for c in s] \n",
    "def decode(l):\n",
    "    return ''.join([itos[i] for i in l]) "
   ],
   "id": "9ded9384269c04f8",
   "outputs": [],
   "execution_count": 60
  },
  {
   "metadata": {
    "ExecuteTime": {
     "end_time": "2024-10-28T16:00:14.862995Z",
     "start_time": "2024-10-28T16:00:14.839567Z"
    }
   },
   "cell_type": "code",
   "source": [
    "# Split the training into test and validation sets\n",
    "n = len(data)\n",
    "train_data = data[:int(n*0.9)]\n",
    "val_data = data[int(n*0.9):]\n",
    "len(train_data), len(val_data)"
   ],
   "id": "7bc02a59834f70c",
   "outputs": [
    {
     "data": {
      "text/plain": [
       "(199593, 22177)"
      ]
     },
     "execution_count": 108,
     "metadata": {},
     "output_type": "execute_result"
    }
   ],
   "execution_count": 108
  },
  {
   "metadata": {},
   "cell_type": "code",
   "outputs": [],
   "execution_count": null,
   "source": [
    "# Encode the sets into integers using the above defined encoding\n",
    "train_ids = encode(train_data)\n",
    "val_ids = encode(val_data)\n",
    "print(f\"train has {len(train_ids):,} tokens\")\n",
    "print(f\"val has {len(val_ids):,} tokens\")"
   ],
   "id": "9df0ddf21d40efef"
  },
  {
   "metadata": {},
   "cell_type": "code",
   "outputs": [],
   "execution_count": null,
   "source": "",
   "id": "ba30a63478e11096"
  }
 ],
 "metadata": {
  "kernelspec": {
   "display_name": "Python 3",
   "language": "python",
   "name": "python3"
  },
  "language_info": {
   "codemirror_mode": {
    "name": "ipython",
    "version": 2
   },
   "file_extension": ".py",
   "mimetype": "text/x-python",
   "name": "python",
   "nbconvert_exporter": "python",
   "pygments_lexer": "ipython2",
   "version": "2.7.6"
  }
 },
 "nbformat": 4,
 "nbformat_minor": 5
}
