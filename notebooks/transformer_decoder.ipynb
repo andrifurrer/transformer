{
 "cells": [
  {
   "metadata": {},
   "cell_type": "markdown",
   "source": "# Decoder Transformer for Text Generation",
   "id": "3d3bc50e647927b5"
  },
  {
   "metadata": {
    "ExecuteTime": {
     "end_time": "2024-10-25T15:04:23.822889Z",
     "start_time": "2024-10-25T15:04:23.463338Z"
    }
   },
   "cell_type": "code",
   "source": [
    "import os\n",
    "import numpy as np"
   ],
   "id": "7bb0ed18115ce9ac",
   "outputs": [],
   "execution_count": 1
  },
  {
   "metadata": {},
   "cell_type": "code",
   "outputs": [],
   "execution_count": null,
   "source": "",
   "id": "9caef4633a29bd24"
  }
 ],
 "metadata": {
  "kernelspec": {
   "display_name": "Python 3",
   "language": "python",
   "name": "python3"
  },
  "language_info": {
   "codemirror_mode": {
    "name": "ipython",
    "version": 2
   },
   "file_extension": ".py",
   "mimetype": "text/x-python",
   "name": "python",
   "nbconvert_exporter": "python",
   "pygments_lexer": "ipython2",
   "version": "2.7.6"
  }
 },
 "nbformat": 4,
 "nbformat_minor": 5
}
