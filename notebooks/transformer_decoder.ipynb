{
 "cells": [
  {
   "cell_type": "markdown",
   "id": "3d3bc50e647927b5",
   "metadata": {},
   "source": [
    "# Decoder Transformer for Text Generation"
   ]
  },
  {
   "cell_type": "code",
   "execution_count": 1,
   "id": "7bb0ed18115ce9ac",
   "metadata": {
    "ExecuteTime": {
     "end_time": "2024-10-29T16:03:34.259844Z",
     "start_time": "2024-10-29T16:03:34.254636Z"
    }
   },
   "outputs": [],
   "source": [
    "import os\n",
    "import numpy as np\n",
    "import torch\n",
    "import torch.nn as nn\n",
    "from torch.nn import functional as F"
   ]
  },
  {
   "cell_type": "markdown",
   "id": "6767d8260da67e13",
   "metadata": {},
   "source": [
    "## Preprocessing\n"
   ]
  },
  {
   "cell_type": "code",
   "execution_count": 2,
   "id": "9708c6ef54f6e979",
   "metadata": {},
   "outputs": [
    {
     "name": "stdout",
     "output_type": "stream",
     "text": [
      "Title: Hamlet, Prince of Denmark\n",
      "\n",
      "Author: William Shakespeare\n",
      "\n",
      "Editor: Charles John Kean\n",
      "\n",
      "Release date: January 10, 2009 [eBook #27761]\n",
      "              \n",
      "length of text: 221770\n"
     ]
    }
   ],
   "source": [
    "# Read in the txt file using the latin1 encoding\n",
    "input_file_path = os.path.join('../data', 'hamlet.txt')\n",
    "with open(input_file_path, 'r', encoding='latin1') as f:\n",
    "    text = f.read()\n",
    "    #text.encode('utf-8').strip()\n",
    "    print(text[:150])\n",
    "print(f\"length of text: {len(text)}\")"
   ]
  },
  {
   "cell_type": "code",
   "execution_count": 3,
   "id": "5ba730cd7a302482",
   "metadata": {
    "ExecuteTime": {
     "end_time": "2024-10-29T14:41:58.786656Z",
     "start_time": "2024-10-29T14:41:58.781359Z"
    }
   },
   "outputs": [
    {
     "name": "stdout",
     "output_type": "stream",
     "text": [
      "all the unique characters: \u0000\u0001\u0003\n",
      "\u000b\u0010\u0013\u001d !\"#$%&'()*,-./0123456789:;<>?ABCDEFGHIJKLMNOPQRSTUVWXYZ[]_abcdefghijklmnopqrstuvwxyz{} ¡¢¦¨©­³ÃÎÙÚâ\n",
      "vocab size: 120\n"
     ]
    }
   ],
   "source": [
    "# Create a list with all the characters and get the size of it\n",
    "chars = sorted(list(set(text)))\n",
    "vocab_size = len(chars)\n",
    "print(\"all the unique characters:\", ''.join(chars))\n",
    "print(f\"vocab size: {vocab_size:,}\")"
   ]
  },
  {
   "cell_type": "code",
   "execution_count": 4,
   "id": "9ded9384269c04f8",
   "metadata": {
    "ExecuteTime": {
     "end_time": "2024-10-29T14:42:00.585882Z",
     "start_time": "2024-10-29T14:42:00.582969Z"
    }
   },
   "outputs": [],
   "source": [
    "# Create a mapping from string ot integer and from integer to string\n",
    "stoi = { ch:i for i,ch in enumerate(chars) }\n",
    "itos = { i:ch for i,ch in enumerate(chars) }\n",
    "def encode(s):\n",
    "    return [stoi[c] for c in s] \n",
    "def decode(l):\n",
    "    return ''.join([itos[i] for i in l]) "
   ]
  },
  {
   "cell_type": "code",
   "execution_count": 5,
   "id": "21c5e957",
   "metadata": {},
   "outputs": [
    {
     "name": "stdout",
     "output_type": "stream",
     "text": [
      "torch.Size([221770]) torch.int64\n",
      "tensor([59, 77, 88, 80, 73, 35, 10, 47, 69, 81, 80, 73, 88, 21, 10, 55, 86, 77,\n",
      "        82, 71, 73, 10, 83, 74, 10, 43, 73, 82, 81, 69, 86, 79,  5,  5, 40, 89,\n",
      "        88, 76, 83, 86, 35, 10, 62, 77, 80, 80, 77, 69, 81, 10, 58, 76, 69, 79,\n",
      "        73, 87, 84, 73, 69, 86, 73,  5,  5, 44, 72, 77, 88, 83, 86, 35, 10, 42,\n",
      "        76, 69, 86, 80, 73, 87, 10, 49, 83, 76, 82, 10, 50, 73, 69, 82,  5,  5,\n",
      "        57, 73, 80, 73, 69, 87, 73, 10, 72, 69, 88, 73, 35, 10, 49, 69, 82, 89,\n",
      "        69, 86, 93, 10, 26, 25, 21, 10, 27, 25, 25, 34, 10, 66, 73, 41, 83, 83,\n",
      "        79, 10, 13, 27, 32, 32, 31, 26, 67,  5, 10, 10, 10, 10, 10, 10, 10, 10,\n",
      "        10, 10, 10, 10, 10, 10, 10, 10, 52, 83, 87, 88, 10, 86, 73, 71, 73, 82,\n",
      "        88, 80, 93, 10, 89, 84, 72, 69, 88, 73, 72, 35, 10, 49, 69, 82, 89, 69,\n",
      "        86, 93, 10, 29, 21, 10, 27, 25, 27, 26,  5,  5, 51, 69, 82, 75, 89, 69,\n",
      "        75, 73, 35, 10, 44, 82, 75, 80, 77, 87, 76,  5,  5, 42, 86, 73, 72, 77,\n",
      "        88, 87, 35, 10, 55, 86, 83, 72, 89, 71, 73, 72, 10, 70, 93, 10, 43, 69,\n",
      "        90, 77, 72, 10, 58, 88, 69, 86, 82, 73, 86, 21, 10, 42, 89, 86, 88, 77,\n",
      "        87, 10, 62, 73, 93, 69, 82, 88, 10, 69, 82, 72, 10, 88, 76, 73, 10, 54,\n",
      "        82, 80, 77, 82, 73,  5, 10, 10, 10, 10, 10, 10, 10, 10, 43, 77, 87, 88,\n",
      "        86, 77, 70, 89, 88, 73, 72, 10, 55, 86, 83, 83, 74, 86, 73, 69, 72, 77,\n",
      "        82, 75, 10, 59, 73, 69, 81, 10, 69, 88, 10, 76, 88, 88, 84, 87, 35, 24,\n",
      "        24, 91, 91, 91, 23, 84, 75, 72, 84, 23, 82, 73, 88,  5,  5,  5, 20, 20,\n",
      "        20, 10, 58, 59, 40, 57, 59, 10, 54, 45, 10, 59, 47, 44, 10, 55, 57, 54,\n",
      "        49, 44, 42, 59, 10, 46, 60, 59, 44, 53, 41, 44, 57, 46, 10, 44, 41, 54,\n",
      "        54, 50, 10, 47, 40, 52, 51, 44, 59, 21, 10, 55, 57, 48, 53, 42, 44, 10,\n",
      "        54, 45, 10, 43, 44, 53, 52, 40, 57, 50, 10, 20, 20, 20,  5,  5,  5,  5,\n",
      "         5, 55, 86, 83, 72, 89, 71, 73, 72, 10, 70, 93, 10, 43, 69, 90, 77, 72,\n",
      "        10, 58, 88, 69, 86, 82, 73, 86, 21, 10, 42, 89, 86, 88, 77, 87, 10, 62,\n",
      "        73, 93, 69, 82, 88, 10, 69, 82, 72, 10, 88, 76, 73, 10, 54, 82, 80, 77,\n",
      "        82, 73,  5, 43, 77, 87, 88, 86, 77, 70, 89, 88, 73, 72, 10, 55, 86, 83,\n",
      "        83, 74, 86, 73, 69, 72, 77, 82, 75, 10, 59, 73, 69, 81, 10, 69, 88, 10,\n",
      "        76, 88, 88, 84, 87, 35, 24, 24, 91, 91, 91, 23, 84, 75, 72, 84, 23, 82,\n",
      "        73, 88,  5,  5,  5,  5,  5,  5,  5,  5,  5,  5, 10, 10, 10, 10, 59, 86,\n",
      "        69, 82, 87, 71, 86, 77, 70, 73, 86, 17, 87, 10, 53, 83, 88, 73, 35,  5,\n",
      "        10, 10, 10, 10, 59, 76, 77, 87, 10, 77, 87, 10, 69, 10, 76, 73, 69, 90,\n",
      "        77, 80, 93, 10, 73, 72, 77, 88, 73, 72, 10, 90, 73, 86, 87, 77, 83, 82,\n",
      "        10, 83, 74, 10, 68, 47, 69, 81, 80, 73, 88, 68, 23, 10, 48, 88, 10, 91,\n",
      "        69, 87, 10, 89, 87, 73, 72,  5, 10, 10, 10, 10, 74, 83, 86, 10, 42, 76,\n",
      "        69, 86, 80, 73, 87, 10, 50, 73, 69, 82, 17, 87, 10, 26, 33, 30, 34, 10,\n",
      "        87, 88, 69, 75, 73, 10, 84, 86, 83, 72, 89, 71, 88, 77, 83, 82, 23, 10,\n",
      "        55, 76, 86, 69, 87, 73, 87, 10, 84, 86, 77, 82, 88, 73, 72,  5, 10, 10,\n",
      "        10, 10, 77, 82, 10, 77, 88, 69, 80, 77, 71, 87, 10, 77, 82, 10, 88, 76,\n",
      "        73, 10, 70, 83, 83, 79, 10, 69, 86, 73, 10, 77, 82, 72, 77, 71, 69, 88,\n",
      "        73, 72, 10, 77, 82, 10, 88, 76, 77, 87, 10, 73, 80, 73, 71, 88, 86, 83,\n",
      "        82, 77, 71,  5, 10, 10, 10, 10, 90, 73, 86, 87, 77, 83, 82, 10, 70, 93,\n",
      "        10, 68, 10, 18, 89, 82, 72, 73, 86, 87, 71, 83, 86, 73, 19, 23, 10, 45,\n",
      "        83, 83, 88, 82, 83, 88, 73, 87, 10, 83, 86, 77, 75, 77, 82, 69, 80, 80,\n",
      "        93, 10, 69, 84, 84, 73, 69, 86, 73, 72,  5, 10, 10, 10, 10, 69, 88, 10,\n",
      "        88, 76, 73, 10, 70, 83, 88, 88, 83, 81, 10, 83, 74, 10, 73, 69, 71, 76,\n",
      "        10, 84, 69, 75, 73, 23, 10, 45, 83, 86, 10, 88, 76, 77, 87, 10, 73, 80,\n",
      "        73, 71, 88, 86, 83, 82, 77, 71, 10, 90, 73, 86, 87, 77, 83, 82,  5, 10,\n",
      "        10, 10, 10, 88, 76, 73, 10, 74, 83, 83, 88, 82, 83, 88, 73, 87, 10, 69,\n",
      "        86, 73, 10, 71, 83, 80, 80, 73, 71, 88, 73, 72, 10, 69, 88, 10, 88, 76,\n",
      "        73, 10, 73, 82, 72, 10, 83, 74, 10, 73, 69, 71, 76, 10, 69, 71, 88, 23,\n",
      "        10, 48, 82,  5, 10, 10, 10, 10, 40, 71, 88, 10, 48, 21, 10, 58, 71, 73,\n",
      "        82, 73, 10, 30, 21, 10, 88, 76, 73, 10, 91, 83, 86, 72, 10, 60, 89, 81,\n",
      "        77, 92, 17, 72, 10, 76, 69, 87, 10, 70, 73, 73, 82, 10, 71, 76, 69, 82,\n",
      "        75, 73, 72, 10, 88, 83,  5, 10, 10, 10, 10, 60, 82, 81, 77, 92, 17, 72,\n",
      "        23, 10, 40, 10, 71, 80, 83, 87, 77, 82])\n"
     ]
    }
   ],
   "source": [
    "# Encode the entire text and store it in a tensor object\n",
    "data = torch.tensor(encode(text), dtype=torch.long)\n",
    "print(data.shape, data.dtype)\n",
    "print(data[:1000]) "
   ]
  },
  {
   "cell_type": "code",
   "execution_count": 6,
   "id": "32d8990d",
   "metadata": {},
   "outputs": [
    {
     "name": "stdout",
     "output_type": "stream",
     "text": [
      "train has 199,593 entries\n",
      "val has 22,177 entries\n"
     ]
    }
   ],
   "source": [
    "# Split the training into test and validation sets\n",
    "n = len(data)\n",
    "train_data = data[:int(n*0.9)]\n",
    "val_data = data[int(n*0.9):]\n",
    "print(f\"train has {len(train_data):,} entries\")\n",
    "print(f\"val has {len(val_data):,} entries\")"
   ]
  },
  {
   "cell_type": "code",
   "execution_count": 7,
   "id": "9df0ddf21d40efef",
   "metadata": {
    "ExecuteTime": {
     "end_time": "2024-10-29T14:42:39.887822Z",
     "start_time": "2024-10-29T14:42:39.875991Z"
    }
   },
   "outputs": [
    {
     "name": "stdout",
     "output_type": "stream",
     "text": [
      "An example block:  tensor([59, 77, 88, 80, 73, 35, 10, 47, 69])\n",
      "Input of the tensor is: tensor([59]) & the target: 77\n",
      "Input of the tensor is: tensor([59, 77]) & the target: 88\n",
      "Input of the tensor is: tensor([59, 77, 88]) & the target: 80\n",
      "Input of the tensor is: tensor([59, 77, 88, 80]) & the target: 73\n",
      "Input of the tensor is: tensor([59, 77, 88, 80, 73]) & the target: 35\n",
      "Input of the tensor is: tensor([59, 77, 88, 80, 73, 35]) & the target: 10\n",
      "Input of the tensor is: tensor([59, 77, 88, 80, 73, 35, 10]) & the target: 47\n",
      "Input of the tensor is: tensor([59, 77, 88, 80, 73, 35, 10, 47]) & the target: 69\n"
     ]
    }
   ],
   "source": [
    "# Define the size of one input batch\n",
    "block_size = 8\n",
    "print(\"An example block: \", train_data[:block_size+1])\n",
    "\n",
    "# Retrieve the traget letter when the input sequence is known, i.e. show the next character\n",
    "x = train_data[:block_size]\n",
    "y = train_data[1:block_size+1]\n",
    "for t in range(block_size):\n",
    "    context = x[:t+1]\n",
    "    target = y[t]\n",
    "    print(f\"Input of the tensor is: {context} & the target: {target}\")"
   ]
  },
  {
   "cell_type": "code",
   "execution_count": 8,
   "id": "93cb2c6e",
   "metadata": {},
   "outputs": [
    {
     "name": "stdout",
     "output_type": "stream",
     "text": [
      "inputs:\n",
      "torch.Size([4, 8])\n",
      "tensor([[21, 10, 16, 69, 81, 84, 36, 71],\n",
      "        [93, 10, 80, 83, 86, 72, 23,  5],\n",
      "        [87, 36,  5, 10, 10, 62, 73, 17],\n",
      "        [73, 10, 69, 10, 75, 83, 83, 72]])\n",
      "targets:\n",
      "torch.Size([4, 8])\n",
      "tensor([[10, 16, 69, 81, 84, 36, 71, 23],\n",
      "        [10, 80, 83, 86, 72, 23,  5,  5],\n",
      "        [36,  5, 10, 10, 62, 73, 17, 80],\n",
      "        [10, 69, 10, 75, 83, 83, 72, 10]])\n",
      "----\n",
      "when input is [21] the target: 10\n",
      "when input is [21, 10] the target: 16\n",
      "when input is [21, 10, 16] the target: 69\n",
      "when input is [21, 10, 16, 69] the target: 81\n",
      "when input is [21, 10, 16, 69, 81] the target: 84\n",
      "when input is [21, 10, 16, 69, 81, 84] the target: 36\n",
      "when input is [21, 10, 16, 69, 81, 84, 36] the target: 71\n",
      "when input is [21, 10, 16, 69, 81, 84, 36, 71] the target: 23\n",
      "when input is [93] the target: 10\n",
      "when input is [93, 10] the target: 80\n",
      "when input is [93, 10, 80] the target: 83\n",
      "when input is [93, 10, 80, 83] the target: 86\n",
      "when input is [93, 10, 80, 83, 86] the target: 72\n",
      "when input is [93, 10, 80, 83, 86, 72] the target: 23\n",
      "when input is [93, 10, 80, 83, 86, 72, 23] the target: 5\n",
      "when input is [93, 10, 80, 83, 86, 72, 23, 5] the target: 5\n",
      "when input is [87] the target: 36\n",
      "when input is [87, 36] the target: 5\n",
      "when input is [87, 36, 5] the target: 10\n",
      "when input is [87, 36, 5, 10] the target: 10\n",
      "when input is [87, 36, 5, 10, 10] the target: 62\n",
      "when input is [87, 36, 5, 10, 10, 62] the target: 73\n",
      "when input is [87, 36, 5, 10, 10, 62, 73] the target: 17\n",
      "when input is [87, 36, 5, 10, 10, 62, 73, 17] the target: 80\n",
      "when input is [73] the target: 10\n",
      "when input is [73, 10] the target: 69\n",
      "when input is [73, 10, 69] the target: 10\n",
      "when input is [73, 10, 69, 10] the target: 75\n",
      "when input is [73, 10, 69, 10, 75] the target: 83\n",
      "when input is [73, 10, 69, 10, 75, 83] the target: 83\n",
      "when input is [73, 10, 69, 10, 75, 83, 83] the target: 72\n",
      "when input is [73, 10, 69, 10, 75, 83, 83, 72] the target: 10\n"
     ]
    }
   ],
   "source": [
    "# Use a random seed to get a sequence and set the batch size that shows how many independent sequences we process in parallel\n",
    "torch.manual_seed(1337)\n",
    "batch_size = 4 \n",
    "\n",
    "def get_batch(split):\n",
    "    # generate a small batch of data of inputs x and targets y\n",
    "    if split == 'train':\n",
    "        data = train_data\n",
    "    else:\n",
    "        data = val_data\n",
    "    ix = torch.randint(len(data) - block_size, (batch_size,)) # Create a tensor with the size of batch_size and select a random int between 0-(len(data)-block_size) for every position \n",
    "    x = torch.stack([data[i:i+block_size] for i in ix])\n",
    "    y = torch.stack([data[i+1:i+block_size+1] for i in ix])\n",
    "    return x, y\n",
    "\n",
    "xb, yb = get_batch('train')\n",
    "print('inputs:')\n",
    "print(xb.shape)\n",
    "print(xb)\n",
    "print('targets:')\n",
    "print(yb.shape)\n",
    "print(yb)\n",
    "\n",
    "print('----')\n",
    "\n",
    "for b in range(batch_size): # batch dimension\n",
    "    for t in range(block_size): # time dimension\n",
    "        context = xb[b, :t+1]\n",
    "        target = yb[b,t]\n",
    "        print(f\"when input is {context.tolist()} the target: {target}\")"
   ]
  },
  {
   "cell_type": "markdown",
   "id": "5812fe4166c8b357",
   "metadata": {},
   "source": [
    "## Bigram Model\n"
   ]
  },
  {
   "cell_type": "code",
   "execution_count": 9,
   "id": "f1130fc3",
   "metadata": {},
   "outputs": [
    {
     "name": "stdout",
     "output_type": "stream",
     "text": [
      "torch.Size([32, 120])\n",
      "tensor(5.0029, grad_fn=<NllLossBackward0>)\n",
      "\u0000&³h]zyGf-y{1y/D[<Y\u0013<E,D)>QA)vr.41c2\u001de\u0004P¢d<(#\u0003Yh\u0003<;DB6©y<; .©¦\u0010>¦sd\u0013¡t5 [c3a1pVK#'g;T4\"Úz\n"
     ]
    }
   ],
   "source": [
    "torch.manual_seed(1337)\n",
    "\n",
    "class BigramLanguageModel(nn.Module):\n",
    "    def __init__(self, vocab_size):\n",
    "        super().__init__()\n",
    "        # each token directly reads off the logits for the next token from a lookup table\n",
    "        self.token_embedding_table = nn.Embedding(vocab_size, vocab_size)\n",
    "\n",
    "    def forward(self, idx, targets=None):\n",
    "        # idx and targets are both (B,T) tensor of integers\n",
    "        logits = self.token_embedding_table(idx) # (B,T,C) -> Batch, Tokens/Time, Channel <=> 4,8,120\n",
    "\n",
    "        if targets is None:\n",
    "            loss = None\n",
    "        else:\n",
    "            B, T, C = logits.shape\n",
    "            logits = logits.view(B*T, C)\n",
    "            targets = targets.view(B*T)\n",
    "            loss = F.cross_entropy(logits, targets)\n",
    "\n",
    "        return logits, loss\n",
    "\n",
    "    def generate(self, idx, max_new_tokens):\n",
    "        # idx is (B, T) array of indices in the current context\n",
    "        for _ in range(max_new_tokens):\n",
    "            # get the predictions\n",
    "            logits, loss = self(idx)\n",
    "            # focus only on the last time step\n",
    "            logits = logits[:, -1, :] # becomes (B, C)\n",
    "            # apply softmax to get probabilities\n",
    "            probs = F.softmax(logits, dim=-1) # (B, C)\n",
    "            # sample from the distribution\n",
    "            idx_next = torch.multinomial(probs, num_samples=1) # (B, 1)\n",
    "            # append sampled index to the running sequence\n",
    "            idx = torch.cat((idx, idx_next), dim=1) # (B, T+1)\n",
    "        return idx\n",
    "\n",
    "m = BigramLanguageModel(vocab_size)\n",
    "logits, loss = m(xb, yb)\n",
    "print(logits.shape)\n",
    "print(loss)\n",
    "\n",
    "print(decode(m.generate(idx = torch.zeros((1, 1), dtype=torch.long), max_new_tokens=100)[0].tolist()))"
   ]
  },
  {
   "cell_type": "code",
   "execution_count": 10,
   "id": "234f386f",
   "metadata": {},
   "outputs": [],
   "source": [
    "# create a PyTorch optimizer\n",
    "optimizer = torch.optim.AdamW(m.parameters(), lr=1e-3)"
   ]
  },
  {
   "cell_type": "code",
   "execution_count": 11,
   "id": "1dfd58c4",
   "metadata": {},
   "outputs": [
    {
     "name": "stdout",
     "output_type": "stream",
     "text": [
      "2.6345016956329346\n"
     ]
    }
   ],
   "source": [
    "batch_size = 32\n",
    "for steps in range(10000): # increase number of steps for good results...\n",
    "\n",
    "    # sample a batch of data\n",
    "    xb, yb = get_batch('train')\n",
    "\n",
    "    # evaluate the loss\n",
    "    logits, loss = m(xb, yb)\n",
    "    optimizer.zero_grad(set_to_none=True)\n",
    "    loss.backward()\n",
    "    optimizer.step()\n",
    "\n",
    "print(loss.item())"
   ]
  },
  {
   "cell_type": "code",
   "execution_count": 12,
   "id": "7082fb57",
   "metadata": {},
   "outputs": [
    {
     "name": "stdout",
     "output_type": "stream",
     "text": [
      "\u0000Lo cha tes aboeclo  poret Co onoue f at P\u0010ve oofrm. tay, s  T&Jof?\n",
      " chont   hyongllur._ _cir_ _Hat ANot t ndutho in86:\n",
      "Equtrckisth,  I _,  _Haveap.]\n",
      "RRe apoby;\n",
      "\n",
      "bundea I.[Fou. O tst,\n",
      "\n",
      " e Tiguspouray atotrad  s m>'stus  alis  _ tham.]  ORGour is I.]\n",
      " l,\n",
      "  _  ys,  moit ot 100]\n",
      "harerm.\n",
      " he   with.C.nerthise pot woruPashe  it tred Af\n",
      "\n",
      " pe:---akendin  Call onfar---qwhes ore Whealath\n",
      " he DONaco an ted tothal atexorefin PH.\n",
      " Whotothtonenthil\n",
      " t.] me me her (_ welat.] terathavig.8 Bure, jclon! rerechae\n"
     ]
    }
   ],
   "source": [
    "print(decode(m.generate(idx = torch.zeros((1, 1), dtype=torch.long), max_new_tokens=500)[0].tolist()))"
   ]
  },
  {
   "cell_type": "markdown",
   "id": "e93a7dfb",
   "metadata": {},
   "source": [
    "## Self Attention"
   ]
  },
  {
   "cell_type": "code",
   "execution_count": 13,
   "id": "7dd7b5f0",
   "metadata": {},
   "outputs": [
    {
     "data": {
      "text/plain": [
       "torch.Size([4, 8, 16])"
      ]
     },
     "execution_count": 13,
     "metadata": {},
     "output_type": "execute_result"
    }
   ],
   "source": [
    "# version 4: self-attention!\n",
    "torch.manual_seed(1337)\n",
    "B,T,C = 4,8,32 # batch, time, channels\n",
    "x = torch.randn(B,T,C)\n",
    "\n",
    "# let's see a single Head perform self-attention\n",
    "head_size = 16\n",
    "key = nn.Linear(C, head_size, bias=False)\n",
    "query = nn.Linear(C, head_size, bias=False)\n",
    "value = nn.Linear(C, head_size, bias=False)\n",
    "k = key(x)   # (B, T, 16)\n",
    "q = query(x) # (B, T, 16)\n",
    "wei =  q @ k.transpose(-2, -1) # (B, T, 16) @ (B, 16, T) ---> (B, T, T)\n",
    "\n",
    "tril = torch.tril(torch.ones(T, T))\n",
    "#wei = torch.zeros((T,T))\n",
    "wei = wei.masked_fill(tril == 0, float('-inf'))\n",
    "wei = F.softmax(wei, dim=-1)\n",
    "\n",
    "v = value(x)\n",
    "out = wei @ v\n",
    "#out = wei @ x\n",
    "\n",
    "out.shape"
   ]
  },
  {
   "cell_type": "markdown",
   "id": "d587d9b6",
   "metadata": {},
   "source": [
    "## Normalization "
   ]
  },
  {
   "cell_type": "code",
   "execution_count": 14,
   "id": "dbf65884",
   "metadata": {},
   "outputs": [
    {
     "data": {
      "text/plain": [
       "torch.Size([32, 100])"
      ]
     },
     "execution_count": 14,
     "metadata": {},
     "output_type": "execute_result"
    }
   ],
   "source": [
    "class LayerNorm1d: # (used to be BatchNorm1d)\n",
    "\n",
    "  def __init__(self, dim, eps=1e-5, momentum=0.1):\n",
    "    self.eps = eps\n",
    "    self.gamma = torch.ones(dim)\n",
    "    self.beta = torch.zeros(dim)\n",
    "\n",
    "  def __call__(self, x):\n",
    "    # calculate the forward pass\n",
    "    xmean = x.mean(1, keepdim=True) # batch mean\n",
    "    xvar = x.var(1, keepdim=True) # batch variance\n",
    "    xhat = (x - xmean) / torch.sqrt(xvar + self.eps) # normalize to unit variance\n",
    "    self.out = self.gamma * xhat + self.beta\n",
    "    return self.out\n",
    "\n",
    "  def parameters(self):\n",
    "    return [self.gamma, self.beta]\n",
    "\n",
    "torch.manual_seed(1337)\n",
    "module = LayerNorm1d(100)\n",
    "x = torch.randn(32, 100) # batch size 32 of 100-dimensional vectors\n",
    "x = module(x)\n",
    "x.shape"
   ]
  },
  {
   "cell_type": "markdown",
   "id": "e90163d6",
   "metadata": {},
   "source": [
    "## Final Model - Bigram Model with Self-Attention - a Transformer"
   ]
  },
  {
   "cell_type": "code",
   "execution_count": 16,
   "id": "f445bc6e813dbbbe",
   "metadata": {},
   "outputs": [
    {
     "name": "stdout",
     "output_type": "stream",
     "text": [
      "0.216824 M parameters\n",
      "step 0: train loss 4.9881, val loss 4.9843\n",
      "step 100: train loss 2.8239, val loss 3.1097\n",
      "step 199: train loss 2.5505, val loss 2.9908\n",
      "\u0000o frelare,\n",
      "   _bscpicinwe beded she:\n",
      "   _   [_   A _¢_Hen   mamo d _hebg,_ ady p( are m'sengnd]\n",
      "\n",
      "e ?\n"
     ]
    }
   ],
   "source": [
    "# hyperparameters\n",
    "batch_size = 16 # how many independent sequences will we process in parallel?\n",
    "block_size = 32 # what is the maximum context length for predictions?\n",
    "max_iters = 200\n",
    "eval_interval = 100\n",
    "learning_rate = 1e-3\n",
    "device = 'cuda' if torch.cuda.is_available() else 'cpu'\n",
    "eval_iters = 200\n",
    "n_embd = 64\n",
    "n_head = 4\n",
    "n_layer = 4\n",
    "dropout = 0.0\n",
    "# ------------\n",
    "\n",
    "torch.manual_seed(1337)\n",
    "\n",
    "# here are all the unique characters that occur in this text\n",
    "chars = sorted(list(set(text)))\n",
    "vocab_size = len(chars)\n",
    "# create a mapping from characters to integers\n",
    "stoi = { ch:i for i,ch in enumerate(chars) }\n",
    "itos = { i:ch for i,ch in enumerate(chars) }\n",
    "encode = lambda s: [stoi[c] for c in s] # encoder: take a string, output a list of integers\n",
    "decode = lambda l: ''.join([itos[i] for i in l]) # decoder: take a list of integers, output a string\n",
    "\n",
    "# Train and test splits\n",
    "data = torch.tensor(encode(text), dtype=torch.long)\n",
    "n = int(0.9*len(data)) # first 90% will be train, rest val\n",
    "train_data = data[:n]\n",
    "val_data = data[n:]\n",
    "\n",
    "# data loading\n",
    "def get_batch(split):\n",
    "    # generate a small batch of data of inputs x and targets y\n",
    "    data = train_data if split == 'train' else val_data\n",
    "    ix = torch.randint(len(data) - block_size, (batch_size,))\n",
    "    x = torch.stack([data[i:i+block_size] for i in ix])\n",
    "    y = torch.stack([data[i+1:i+block_size+1] for i in ix])\n",
    "    x, y = x.to(device), y.to(device)\n",
    "    return x, y\n",
    "\n",
    "@torch.no_grad()\n",
    "def estimate_loss():\n",
    "    out = {}\n",
    "    model.eval()\n",
    "    for split in ['train', 'val']:\n",
    "        losses = torch.zeros(eval_iters)\n",
    "        for k in range(eval_iters):\n",
    "            X, Y = get_batch(split)\n",
    "            logits, loss = model(X, Y)\n",
    "            losses[k] = loss.item()\n",
    "        out[split] = losses.mean()\n",
    "    model.train()\n",
    "    return out\n",
    "\n",
    "class Head(nn.Module):\n",
    "    \"\"\" one head of self-attention \"\"\"\n",
    "\n",
    "    def __init__(self, head_size):\n",
    "        super().__init__()\n",
    "        self.key = nn.Linear(n_embd, head_size, bias=False)\n",
    "        self.query = nn.Linear(n_embd, head_size, bias=False)\n",
    "        self.value = nn.Linear(n_embd, head_size, bias=False)\n",
    "        self.register_buffer('tril', torch.tril(torch.ones(block_size, block_size)))\n",
    "\n",
    "        self.dropout = nn.Dropout(dropout)\n",
    "\n",
    "    def forward(self, x):\n",
    "        B,T,C = x.shape\n",
    "        k = self.key(x)   # (B,T,C)\n",
    "        q = self.query(x) # (B,T,C)\n",
    "        # compute attention scores (\"affinities\")\n",
    "        wei = q @ k.transpose(-2,-1) * C**-0.5 # (B, T, C) @ (B, C, T) -> (B, T, T)\n",
    "        wei = wei.masked_fill(self.tril[:T, :T] == 0, float('-inf')) # (B, T, T)\n",
    "        wei = F.softmax(wei, dim=-1) # (B, T, T)\n",
    "        wei = self.dropout(wei)\n",
    "        # perform the weighted aggregation of the values\n",
    "        v = self.value(x) # (B,T,C)\n",
    "        out = wei @ v # (B, T, T) @ (B, T, C) -> (B, T, C)\n",
    "        return out\n",
    "\n",
    "class MultiHeadAttention(nn.Module):\n",
    "    \"\"\" multiple heads of self-attention in parallel \"\"\"\n",
    "\n",
    "    def __init__(self, num_heads, head_size):\n",
    "        super().__init__()\n",
    "        self.heads = nn.ModuleList([Head(head_size) for _ in range(num_heads)])\n",
    "        self.proj = nn.Linear(n_embd, n_embd)\n",
    "        self.dropout = nn.Dropout(dropout)\n",
    "\n",
    "    def forward(self, x):\n",
    "        out = torch.cat([h(x) for h in self.heads], dim=-1)\n",
    "        out = self.dropout(self.proj(out))\n",
    "        return out\n",
    "\n",
    "class FeedFoward(nn.Module):\n",
    "    \"\"\" a simple linear layer followed by a non-linearity \"\"\"\n",
    "\n",
    "    def __init__(self, n_embd):\n",
    "        super().__init__()\n",
    "        self.net = nn.Sequential(\n",
    "            nn.Linear(n_embd, 4 * n_embd),\n",
    "            nn.ReLU(),\n",
    "            nn.Linear(4 * n_embd, n_embd),\n",
    "            nn.Dropout(dropout),\n",
    "        )\n",
    "\n",
    "    def forward(self, x):\n",
    "        return self.net(x)\n",
    "\n",
    "class Block(nn.Module):\n",
    "    \"\"\" Transformer block: communication followed by computation \"\"\"\n",
    "\n",
    "    def __init__(self, n_embd, n_head):\n",
    "        # n_embd: embedding dimension, n_head: the number of heads we'd like\n",
    "        super().__init__()\n",
    "        head_size = n_embd // n_head\n",
    "        self.sa = MultiHeadAttention(n_head, head_size)\n",
    "        self.ffwd = FeedFoward(n_embd)\n",
    "        self.ln1 = nn.LayerNorm(n_embd)\n",
    "        self.ln2 = nn.LayerNorm(n_embd)\n",
    "\n",
    "    def forward(self, x):\n",
    "        x = x + self.sa(self.ln1(x))\n",
    "        x = x + self.ffwd(self.ln2(x))\n",
    "        return x\n",
    "\n",
    "# super simple bigram model\n",
    "class BigramLanguageModel(nn.Module):\n",
    "\n",
    "    def __init__(self):\n",
    "        super().__init__()\n",
    "        # each token directly reads off the logits for the next token from a lookup table\n",
    "        self.token_embedding_table = nn.Embedding(vocab_size, n_embd)\n",
    "        self.position_embedding_table = nn.Embedding(block_size, n_embd)\n",
    "        self.blocks = nn.Sequential(*[Block(n_embd, n_head=n_head) for _ in range(n_layer)])\n",
    "        self.ln_f = nn.LayerNorm(n_embd) # final layer norm\n",
    "        self.lm_head = nn.Linear(n_embd, vocab_size)\n",
    "\n",
    "    def forward(self, idx, targets=None):\n",
    "        B, T = idx.shape\n",
    "\n",
    "        # idx and targets are both (B,T) tensor of integers\n",
    "        tok_emb = self.token_embedding_table(idx) # (B,T,C)\n",
    "        pos_emb = self.position_embedding_table(torch.arange(T, device=device)) # (T,C)\n",
    "        x = tok_emb + pos_emb # (B,T,C)\n",
    "        x = self.blocks(x) # (B,T,C)\n",
    "        x = self.ln_f(x) # (B,T,C)\n",
    "        logits = self.lm_head(x) # (B,T,vocab_size)\n",
    "\n",
    "        if targets is None:\n",
    "            loss = None\n",
    "        else:\n",
    "            B, T, C = logits.shape\n",
    "            logits = logits.view(B*T, C)\n",
    "            targets = targets.view(B*T)\n",
    "            loss = F.cross_entropy(logits, targets)\n",
    "\n",
    "        return logits, loss\n",
    "\n",
    "    def generate(self, idx, max_new_tokens):\n",
    "        # idx is (B, T) array of indices in the current context\n",
    "        for _ in range(max_new_tokens):\n",
    "            # crop idx to the last block_size tokens\n",
    "            idx_cond = idx[:, -block_size:]\n",
    "            # get the predictions\n",
    "            logits, loss = self(idx_cond)\n",
    "            # focus only on the last time step\n",
    "            logits = logits[:, -1, :] # becomes (B, C)\n",
    "            # apply softmax to get probabilities\n",
    "            probs = F.softmax(logits, dim=-1) # (B, C)\n",
    "            # sample from the distribution\n",
    "            idx_next = torch.multinomial(probs, num_samples=1) # (B, 1)\n",
    "            # append sampled index to the running sequence\n",
    "            idx = torch.cat((idx, idx_next), dim=1) # (B, T+1)\n",
    "        return idx\n",
    "\n",
    "model = BigramLanguageModel()\n",
    "m = model.to(device)\n",
    "# print the number of parameters in the model\n",
    "print(sum(p.numel() for p in m.parameters())/1e6, 'M parameters')\n",
    "\n",
    "# create a PyTorch optimizer\n",
    "optimizer = torch.optim.AdamW(model.parameters(), lr=learning_rate)\n",
    "\n",
    "for iter in range(max_iters):\n",
    "\n",
    "    # every once in a while evaluate the loss on train and val sets\n",
    "    if iter % eval_interval == 0 or iter == max_iters - 1:\n",
    "        losses = estimate_loss()\n",
    "        print(f\"step {iter}: train loss {losses['train']:.4f}, val loss {losses['val']:.4f}\")\n",
    "\n",
    "    # sample a batch of data\n",
    "    xb, yb = get_batch('train')\n",
    "\n",
    "    # evaluate the loss\n",
    "    logits, loss = model(xb, yb)\n",
    "    optimizer.zero_grad(set_to_none=True)\n",
    "    loss.backward()\n",
    "    optimizer.step()\n",
    "\n",
    "# generate from the model\n",
    "context = torch.zeros((1, 1), dtype=torch.long, device=device)\n",
    "print(decode(m.generate(context, max_new_tokens=100)[0].tolist()))"
   ]
  }
 ],
 "metadata": {
  "kernelspec": {
   "display_name": "transformer",
   "language": "python",
   "name": "python3"
  },
  "language_info": {
   "codemirror_mode": {
    "name": "ipython",
    "version": 3
   },
   "file_extension": ".py",
   "mimetype": "text/x-python",
   "name": "python",
   "nbconvert_exporter": "python",
   "pygments_lexer": "ipython3",
   "version": "3.12.7"
  }
 },
 "nbformat": 4,
 "nbformat_minor": 5
}
